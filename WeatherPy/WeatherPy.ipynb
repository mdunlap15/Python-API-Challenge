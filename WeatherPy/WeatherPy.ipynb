{
 "cells": [
  {
   "cell_type": "code",
   "execution_count": 85,
   "metadata": {
    "scrolled": true
   },
   "outputs": [],
   "source": [
    "# Dependencies\n",
    "import matplotlib.pyplot as plt\n",
    "import requests\n",
    "from scipy import stats\n",
    "import pandas as pd\n",
    "from weather_config import api_key\n",
    "import numpy as np\n",
    "from citipy import citipy\n",
    "import random\n",
    "import json\n",
    "from scipy.stats import linregress\n",
    "from sklearn import datasets"
   ]
  },
  {
   "cell_type": "code",
   "execution_count": 86,
   "metadata": {},
   "outputs": [
    {
     "data": {
      "text/plain": [
       "0    650\n",
       "dtype: int64"
      ]
     },
     "execution_count": 86,
     "metadata": {},
     "output_type": "execute_result"
    }
   ],
   "source": [
    "# Creating list of cities (Note: Adding 650 to ensure 500 unique are found in the API calls)\n",
    "cities_list = []\n",
    "\n",
    "for i in range(0,2000):\n",
    "    if len(cities_list) < 650:\n",
    "        lat = random.randint(-90,90)\n",
    "        long = random.randint(-180,180)\n",
    "        city = citipy.nearest_city(lat, long).city_name\n",
    "        if city not in cities_list:\n",
    "            cities_list.append(city)\n",
    "        else:\n",
    "            continue\n",
    "    else:\n",
    "        break\n",
    "\n",
    "# Check for 650 unique cities\n",
    "cities_df = pd.DataFrame(cities_list)\n",
    "cities_df.nunique()"
   ]
  },
  {
   "cell_type": "code",
   "execution_count": 87,
   "metadata": {},
   "outputs": [
    {
     "name": "stdout",
     "output_type": "stream",
     "text": [
      "http://api.openweathermap.org/data/2.5/weather?appid=e20c3b6406318b2050644f004b124d1a&units=imperial&q=\n"
     ]
    }
   ],
   "source": [
    "# Creating Query URL base\n",
    "url = \"http://api.openweathermap.org/data/2.5/weather?\"\n",
    "units = \"imperial\"\n",
    "query_url = f\"{url}appid={api_key}&units={units}&q=\"\n",
    "print(query_url)"
   ]
  },
  {
   "cell_type": "code",
   "execution_count": 88,
   "metadata": {},
   "outputs": [
    {
     "name": "stdout",
     "output_type": "stream",
     "text": [
      "belushya guba not found.\n",
      "1:Aklavik - Successfully added.\n",
      "2:Sistranda - Successfully added.\n",
      "3:Punta Arenas - Successfully added.\n",
      "4:Manakara - Successfully added.\n",
      "5:Albany - Successfully added.\n",
      "6:Mataura - Successfully added.\n",
      "7:Upernavik - Successfully added.\n",
      "8:Busselton - Successfully added.\n",
      "9:Byron Bay - Successfully added.\n",
      "10:Sandakan - Successfully added.\n",
      "11:Kungurtug - Successfully added.\n",
      "12:Cherskiy - Successfully added.\n",
      "13:Nikolskoye - Successfully added.\n",
      "14:Binzhou - Successfully added.\n",
      "hunza not found.\n",
      "15:Norman Wells - Successfully added.\n",
      "16:Avarua - Successfully added.\n",
      "17:Barrow - Successfully added.\n",
      "18:Poum - Successfully added.\n",
      "19:Hermanus - Successfully added.\n",
      "20:Swan Hill - Successfully added.\n",
      "21:Clyde River - Successfully added.\n",
      "22:Hasaki - Successfully added.\n",
      "23:Sānchor - Successfully added.\n",
      "24:Saint-Philippe - Successfully added.\n",
      "25:Manado - Successfully added.\n",
      "sentyabrskiy not found.\n",
      "26:Bluff - Successfully added.\n",
      "27:Kaitangata - Successfully added.\n",
      "28:Cadiz - Successfully added.\n",
      "29:Zhangjiakou - Successfully added.\n",
      "30:Castro - Successfully added.\n",
      "31:Cape Town - Successfully added.\n",
      "32:Stavropol - Successfully added.\n",
      "33:Ulladulla - Successfully added.\n",
      "34:Alice Springs - Successfully added.\n",
      "35:Katsuura - Successfully added.\n",
      "36:Kavieng - Successfully added.\n",
      "37:Oranjemund - Successfully added.\n",
      "38:San Quintín - Successfully added.\n",
      "39:Dikson - Successfully added.\n",
      "40:Tessalit - Successfully added.\n",
      "41:Port Alfred - Successfully added.\n",
      "guichicovi not found.\n",
      "42:Yellowknife - Successfully added.\n",
      "43:Faanui - Successfully added.\n",
      "44:Mahébourg - Successfully added.\n",
      "nizhneyansk not found.\n",
      "45:Jamestown - Successfully added.\n",
      "46:Puerto Ayora - Successfully added.\n",
      "47:Rikitea - Successfully added.\n",
      "48:Kristinestad - Successfully added.\n",
      "taolanaro not found.\n",
      "49:Itarema - Successfully added.\n",
      "50:Port Macquarie - Successfully added.\n",
      "bolungarvik not found.\n",
      "51:Presidencia Roque Sáenz Peña - Successfully added.\n",
      "lolua not found.\n",
      "52:Khovu-Aksy - Successfully added.\n",
      "53:Dongsheng - Successfully added.\n",
      "54:Sitka - Successfully added.\n",
      "55:Narsaq - Successfully added.\n",
      "56:Atuona - Successfully added.\n",
      "57:Carandaí - Successfully added.\n",
      "58:Selenduma - Successfully added.\n",
      "59:Bethel - Successfully added.\n",
      "60:San Patricio - Successfully added.\n",
      "61:Carnarvon - Successfully added.\n",
      "satitoa not found.\n",
      "rungata not found.\n",
      "62:Vardø - Successfully added.\n",
      "63:Ilhabela - Successfully added.\n",
      "64:Aras - Successfully added.\n",
      "65:Boralday - Successfully added.\n",
      "66:Bocas del Toro - Successfully added.\n",
      "67:Rio Grande - Successfully added.\n",
      "68:Acarí - Successfully added.\n",
      "69:Kapaa - Successfully added.\n",
      "70:Khatanga - Successfully added.\n",
      "71:Qasigiannguit - Successfully added.\n",
      "72:Vaini - Successfully added.\n",
      "73:Aketi - Successfully added.\n",
      "74:Yulara - Successfully added.\n",
      "75:Severo-Yeniseyskiy - Successfully added.\n",
      "76:Urucará - Successfully added.\n",
      "77:Jaguarari - Successfully added.\n",
      "78:Tuktoyaktuk - Successfully added.\n",
      "79:Leningradskiy - Successfully added.\n",
      "80:Boone - Successfully added.\n",
      "81:Geraldton - Successfully added.\n",
      "82:Dingle - Successfully added.\n",
      "mys shmidta not found.\n",
      "83:Hithadhoo - Successfully added.\n",
      "84:Bathsheba - Successfully added.\n",
      "85:Bredasdorp - Successfully added.\n",
      "86:Belaya Gora - Successfully added.\n",
      "87:Ushuaia - Successfully added.\n",
      "88:Ajdabiya - Successfully added.\n",
      "89:Matamoros - Successfully added.\n",
      "90:Hobyo - Successfully added.\n",
      "91:Talnakh - Successfully added.\n",
      "hihifo not found.\n",
      "92:Zhovkva - Successfully added.\n",
      "93:Pueblo - Successfully added.\n",
      "94:Sayyan - Successfully added.\n",
      "95:Hong Kong - Successfully added.\n",
      "96:Vostok - Successfully added.\n",
      "97:Lagoa - Successfully added.\n",
      "98:Ust-Maya - Successfully added.\n",
      "99:Alofi - Successfully added.\n",
      "barentsburg not found.\n",
      "100:Mandalay - Successfully added.\n",
      "101:Ust'-Kulom - Successfully added.\n",
      "102:Trofors - Successfully added.\n",
      "103:Tuatapere - Successfully added.\n",
      "104:Saskylakh - Successfully added.\n",
      "105:Ponta do Sol - Successfully added.\n",
      "106:Hilo - Successfully added.\n",
      "107:Mar del Plata - Successfully added.\n",
      "viligili not found.\n",
      "108:Flinders - Successfully added.\n",
      "109:Campohermoso - Successfully added.\n",
      "110:Port Elizabeth - Successfully added.\n",
      "111:Lebu - Successfully added.\n",
      "112:New Norfolk - Successfully added.\n",
      "113:Maceió - Successfully added.\n",
      "114:La Ronge - Successfully added.\n",
      "115:Hobart - Successfully added.\n",
      "116:Ilulissat - Successfully added.\n",
      "117:East London - Successfully added.\n",
      "118:Kargasok - Successfully added.\n",
      "saleaula not found.\n",
      "119:Krasnovishersk - Successfully added.\n",
      "120:Sambava - Successfully added.\n",
      "121:Aldan - Successfully added.\n",
      "one hundred mile house not found.\n",
      "122:Cockburn Town - Successfully added.\n",
      "123:Sfântu Gheorghe - Successfully added.\n",
      "124:Souillac - Successfully added.\n",
      "125:Longyearbyen - Successfully added.\n",
      "126:Fukuechō - Successfully added.\n",
      "127:Saint Paul Harbor - Successfully added.\n",
      "128:São João do Paraíso - Successfully added.\n",
      "129:Ban Tak - Successfully added.\n",
      "buariki not found.\n",
      "130:Yar-Sale - Successfully added.\n",
      "meyungs not found.\n",
      "131:Kumano - Successfully added.\n",
      "vaitupu not found.\n",
      "132:Rabaul - Successfully added.\n",
      "133:Jinka - Successfully added.\n",
      "134:Esperance - Successfully added.\n",
      "135:Sos'va - Successfully added.\n",
      "136:Guerrero Negro - Successfully added.\n",
      "137:Escanaba - Successfully added.\n",
      "138:Salalah - Successfully added.\n",
      "139:Eureka - Successfully added.\n",
      "140:Grindavik - Successfully added.\n",
      "longlac not found.\n",
      "samusu not found.\n",
      "141:Qaanaaq - Successfully added.\n",
      "142:Hamilton - Successfully added.\n",
      "143:Arraial do Cabo - Successfully added.\n",
      "144:Hambantota - Successfully added.\n",
      "145:Zhigansk - Successfully added.\n",
      "146:Esmeraldas - Successfully added.\n",
      "147:Cayenne - Successfully added.\n",
      "148:Romny - Successfully added.\n",
      "149:Labuhan - Successfully added.\n",
      "150:Takoradze - Successfully added.\n",
      "151:Belle Fourche - Successfully added.\n",
      "152:Iqaluit - Successfully added.\n",
      "153:Olafsvik - Successfully added.\n",
      "154:Shīeli - Successfully added.\n",
      "155:Saldanha - Successfully added.\n",
      "156:Pisco - Successfully added.\n",
      "157:São Filipe - Successfully added.\n",
      "158:Makkah al Mukarramah - Successfully added.\n",
      "159:Stornoway - Successfully added.\n",
      "160:Tasiilaq - Successfully added.\n",
      "161:Safaga - Successfully added.\n",
      "162:Sur - Successfully added.\n",
      "163:Butaritari - Successfully added.\n",
      "amderma not found.\n",
      "164:Klaksvík - Successfully added.\n",
      "umzimvubu not found.\n",
      "165:Puerto Escondido - Successfully added.\n",
      "166:Trelew - Successfully added.\n",
      "167:Batagay - Successfully added.\n",
      "168:Erenhot - Successfully added.\n",
      "mouzakion not found.\n",
      "169:Thompson - Successfully added.\n",
      "kobojango not found.\n",
      "170:Cape Coast - Successfully added.\n",
      "171:Nakskov - Successfully added.\n",
      "172:Thinadhoo - Successfully added.\n",
      "173:Havelock - Successfully added.\n",
      "174:Kahului - Successfully added.\n",
      "175:Novikovo - Successfully added.\n",
      "176:Nemuro - Successfully added.\n",
      "guelengdeng not found.\n",
      "177:Raudeberg - Successfully added.\n",
      "178:Mount Gambier - Successfully added.\n",
      "179:Kalundborg - Successfully added.\n",
      "180:Faya - Successfully added.\n",
      "tsihombe not found.\n",
      "181:Vila Velha - Successfully added.\n",
      "182:Biltine - Successfully added.\n",
      "183:Pevek - Successfully added.\n",
      "184:Cidreira - Successfully added.\n",
      "185:Ambon City - Successfully added.\n",
      "186:George Town - Successfully added.\n",
      "187:Shingū - Successfully added.\n",
      "yurya not found.\n",
      "188:Khovd - Successfully added.\n",
      "189:Vysokogornyy - Successfully added.\n",
      "190:Neustadt an der Waldnaab - Successfully added.\n",
      "191:Nome - Successfully added.\n",
      "192:Fuyang - Successfully added.\n",
      "193:Coyhaique - Successfully added.\n",
      "194:Bealanana - Successfully added.\n",
      "utiroa not found.\n",
      "tarudant not found.\n",
      "195:Nishihara - Successfully added.\n",
      "196:Pindi Gheb - Successfully added.\n",
      "197:Ahipara - Successfully added.\n",
      "198:Bulawayo - Successfully added.\n",
      "199:Bad Wildungen - Successfully added.\n",
      "200:Bārmer - Successfully added.\n",
      "201:Khani - Successfully added.\n",
      "202:Oktyabr'skiy - Successfully added.\n",
      "203:Moose Factory - Successfully added.\n",
      "204:Seoul - Successfully added.\n",
      "205:Tautira - Successfully added.\n",
      "206:Haines Junction - Successfully added.\n",
      "207:Birao - Successfully added.\n",
      "208:Parambu - Successfully added.\n",
      "209:Waipawa - Successfully added.\n",
      "rawannawi not found.\n",
      "210:Wuwei - Successfully added.\n",
      "211:Manzhouli - Successfully added.\n",
      "212:Soyo - Successfully added.\n",
      "malwan not found.\n",
      "213:Turukhansk - Successfully added.\n",
      "214:Sola - Successfully added.\n",
      "215:Vorchdorf - Successfully added.\n",
      "216:Nautla - Successfully added.\n"
     ]
    },
    {
     "name": "stdout",
     "output_type": "stream",
     "text": [
      "217:Bambous Virieux - Successfully added.\n",
      "218:Hikari - Successfully added.\n",
      "219:Chabahar - Successfully added.\n",
      "220:Ribeira Grande - Successfully added.\n",
      "221:Grand Gaube - Successfully added.\n",
      "222:Lorengau - Successfully added.\n",
      "warqla not found.\n",
      "223:Antofagasta - Successfully added.\n",
      "224:Jalu - Successfully added.\n",
      "225:Cody - Successfully added.\n",
      "226:Bubaque - Successfully added.\n",
      "grand river south east not found.\n",
      "227:Voyvozh - Successfully added.\n",
      "228:Tiksi - Successfully added.\n",
      "229:Pulaski - Successfully added.\n",
      "230:Ichinoseki - Successfully added.\n",
      "231:Chokurdakh - Successfully added.\n",
      "232:San Vicente - Successfully added.\n",
      "attawapiskat not found.\n",
      "233:Acapulco de Juárez - Successfully added.\n",
      "234:Wenling - Successfully added.\n",
      "235:Chifeng - Successfully added.\n",
      "236:Aksu - Successfully added.\n",
      "237:Arroyo de la Encomienda - Successfully added.\n",
      "238:Savannah Bight - Successfully added.\n",
      "239:Fairbanks - Successfully added.\n",
      "240:Lawrenceburg - Successfully added.\n",
      "241:Bahía de Caráquez - Successfully added.\n",
      "242:Salinópolis - Successfully added.\n",
      "243:Manokwari - Successfully added.\n",
      "244:Vila Franca do Campo - Successfully added.\n",
      "245:Uyuni - Successfully added.\n",
      "246:Mareeba - Successfully added.\n",
      "247:Glenwood Springs - Successfully added.\n",
      "248:Makakilo City - Successfully added.\n",
      "249:Sakaraha - Successfully added.\n",
      "250:Solnechnyy - Successfully added.\n",
      "251:Qaqortoq - Successfully added.\n",
      "252:San Lazaro - Successfully added.\n",
      "253:Çorum Province - Successfully added.\n",
      "254:Darnah - Successfully added.\n",
      "255:Neyshabur - Successfully added.\n",
      "256:Kautokeino - Successfully added.\n",
      "257:Portland - Successfully added.\n",
      "258:Egvekinot - Successfully added.\n",
      "259:Berlevåg - Successfully added.\n",
      "preobrazhenskaya not found.\n",
      "260:Wawa - Successfully added.\n",
      "261:Kiryat Gat - Successfully added.\n",
      "262:Ambilobe - Successfully added.\n",
      "263:Katete - Successfully added.\n",
      "264:Am Timan - Successfully added.\n",
      "burica not found.\n",
      "265:Sarkand - Successfully added.\n",
      "266:Mmabatho - Successfully added.\n",
      "267:Ol'ga - Successfully added.\n",
      "268:Shenkursk - Successfully added.\n",
      "269:Mayo - Successfully added.\n",
      "270:Nanortalik - Successfully added.\n",
      "271:San Ramon - Successfully added.\n",
      "272:Athens - Successfully added.\n",
      "273:Marabu - Successfully added.\n",
      "274:Malgrat de Mar - Successfully added.\n",
      "275:Constitución - Successfully added.\n",
      "276:Kennewick - Successfully added.\n",
      "277:Hammerfest - Successfully added.\n",
      "278:Chimoio - Successfully added.\n",
      "279:Sørland - Successfully added.\n",
      "280:Kpandu - Successfully added.\n",
      "281:Pangnirtung - Successfully added.\n",
      "282:Bayir - Successfully added.\n",
      "283:High Level - Successfully added.\n",
      "284:Sakaiminato - Successfully added.\n",
      "285:Boa Vista - Successfully added.\n",
      "286:Colorado Springs - Successfully added.\n",
      "287:Bontang - Successfully added.\n",
      "288:Mossamedes - Successfully added.\n",
      "289:Bangkalan - Successfully added.\n",
      "290:Goryachegorsk - Successfully added.\n",
      "291:Elk Point - Successfully added.\n",
      "292:Atambua - Successfully added.\n",
      "293:Dunedin - Successfully added.\n",
      "294:Batemans Bay - Successfully added.\n",
      "295:Lata - Successfully added.\n",
      "296:Lavrentiya - Successfully added.\n",
      "297:Elizabeth City - Successfully added.\n",
      "298:Westport - Successfully added.\n",
      "299:Izazi - Successfully added.\n",
      "300:Buraidah - Successfully added.\n",
      "301:Vao - Successfully added.\n",
      "302:Alekseyevsk - Successfully added.\n",
      "303:Matara - Successfully added.\n",
      "304:Mahajanga - Successfully added.\n",
      "305:Chui - Successfully added.\n",
      "katha not found.\n",
      "306:Pawai - Successfully added.\n",
      "307:Lincoln - Successfully added.\n",
      "308:Tulun - Successfully added.\n",
      "309:Nísia Floresta - Successfully added.\n",
      "310:Tual - Successfully added.\n",
      "311:Frontera - Successfully added.\n",
      "312:Roald - Successfully added.\n",
      "araguatins not found.\n",
      "313:Edd - Successfully added.\n",
      "314:Severo-Kuril'sk - Successfully added.\n",
      "315:Praia da Vitória - Successfully added.\n",
      "palabuhanratu not found.\n",
      "316:Sovetskiy - Successfully added.\n",
      "317:Rome - Successfully added.\n",
      "318:Coahuayana Viejo - Successfully added.\n",
      "319:Rongai - Successfully added.\n",
      "320:Margate - Successfully added.\n",
      "321:Tarakan - Successfully added.\n",
      "322:Primorsko-Akhtarsk - Successfully added.\n",
      "323:Iquitos - Successfully added.\n",
      "324:Cabo San Lucas - Successfully added.\n",
      "bocaranga not found.\n",
      "325:Deputatsky - Successfully added.\n",
      "326:Labytnangi - Successfully added.\n",
      "327:Thunder Bay - Successfully added.\n",
      "328:Gōtsuchō - Successfully added.\n",
      "329:Daru - Successfully added.\n",
      "330:Ostrovnoy - Successfully added.\n",
      "331:Airai - Successfully added.\n",
      "332:Kavaratti - Successfully added.\n",
      "ngukurr not found.\n",
      "333:Ngunguru - Successfully added.\n",
      "334:Valday - Successfully added.\n",
      "335:Ayan - Successfully added.\n",
      "336:Tommot - Successfully added.\n",
      "337:Sungai Raya - Successfully added.\n",
      "338:Mehamn - Successfully added.\n",
      "339:Yangi Marg`ilon - Successfully added.\n",
      "340:Letpadan - Successfully added.\n",
      "341:Vetluga - Successfully added.\n",
      "342:Medvezh'yegorsk - Successfully added.\n",
      "343:Leh - Successfully added.\n",
      "344:Davila - Successfully added.\n",
      "345:Barbosa Ferraz - Successfully added.\n",
      "346:Playas - Successfully added.\n",
      "347:Atar - Successfully added.\n",
      "348:Gamba - Successfully added.\n",
      "349:Maţāy - Successfully added.\n",
      "350:Karaidel' - Successfully added.\n",
      "351:Ponta Delgada - Successfully added.\n",
      "352:Caravelas - Successfully added.\n",
      "staryy biser not found.\n",
      "353:Mount Isa - Successfully added.\n",
      "354:Shitanjing - Successfully added.\n",
      "355:Teknāf - Successfully added.\n",
      "356:Atherton - Successfully added.\n",
      "357:Sukumo - Successfully added.\n",
      "358:Hukuntsi - Successfully added.\n",
      "359:Vigrestad - Successfully added.\n",
      "360:São Félix do Xingu - Successfully added.\n",
      "361:Samagaltay - Successfully added.\n",
      "362:Nouadhibou - Successfully added.\n",
      "363:Junín - Successfully added.\n",
      "364:Santa Isabel Rio Negro - Successfully added.\n",
      "365:Bend - Successfully added.\n",
      "366:Lompoc - Successfully added.\n",
      "367:College - Successfully added.\n",
      "368:Kasempa - Successfully added.\n",
      "369:San Juan - Successfully added.\n",
      "370:Los Llanos de Aridane - Successfully added.\n",
      "371:Lodja - Successfully added.\n",
      "372:Lang Son - Successfully added.\n",
      "marcona not found.\n",
      "373:Puerto Maldonado - Successfully added.\n",
      "374:Kaeo - Successfully added.\n",
      "375:Zyryanka - Successfully added.\n",
      "376:Sisimiut - Successfully added.\n",
      "377:Nassau - Successfully added.\n",
      "378:Shirak - Successfully added.\n",
      "379:Opuwo - Successfully added.\n",
      "380:Kodinsk - Successfully added.\n",
      "381:Nantucket - Successfully added.\n",
      "382:Port Hedland - Successfully added.\n",
      "383:Mackay - Successfully added.\n",
      "384:Havøysund - Successfully added.\n",
      "385:Saint-François - Successfully added.\n",
      "386:Marovoay - Successfully added.\n",
      "387:Lüderitz - Successfully added.\n",
      "388:Vysoke - Successfully added.\n",
      "aporawan not found.\n",
      "389:Inírida - Successfully added.\n",
      "390:Velingrad - Successfully added.\n",
      "tapaua not found.\n",
      "391:Sarangani - Successfully added.\n",
      "sumbawa not found.\n",
      "392:Boali - Successfully added.\n",
      "393:Sawtell - Successfully added.\n",
      "394:Ibicuí - Successfully added.\n",
      "395:Puerto Madryn - Successfully added.\n",
      "396:Pacifica - Successfully added.\n",
      "397:Smidovich - Successfully added.\n",
      "398:Akropong - Successfully added.\n",
      "399:Platonovka - Successfully added.\n",
      "400:Beringovskiy - Successfully added.\n",
      "401:Bilma - Successfully added.\n",
      "402:Semnan - Successfully added.\n",
      "403:Kiboga - Successfully added.\n",
      "404:Kamenka - Successfully added.\n",
      "405:Cuauhtémoc - Successfully added.\n",
      "406:Bafoulabé - Successfully added.\n",
      "samalaeulu not found.\n",
      "407:Amnat Charoen - Successfully added.\n",
      "408:Lumberton - Successfully added.\n",
      "409:Aleksandrov Gay - Successfully added.\n",
      "410:Tigil' - Successfully added.\n",
      "411:Chlum u Třeboně - Successfully added.\n",
      "412:Codrington - Successfully added.\n",
      "413:Balkhash - Successfully added.\n",
      "414:Aden - Successfully added.\n",
      "415:Big Rapids - Successfully added.\n",
      "416:Nsanje - Successfully added.\n",
      "417:Ihosy - Successfully added.\n",
      "418:Baykit - Successfully added.\n",
      "419:Bonavista - Successfully added.\n",
      "420:Rūdbār - Successfully added.\n",
      "421:Tutóia - Successfully added.\n",
      "422:Stephenville - Successfully added.\n",
      "423:Laas - Successfully added.\n",
      "424:Broome - Successfully added.\n",
      "425:Chernyshevskiy - Successfully added.\n",
      "426:Kloulklubed - Successfully added.\n",
      "kadykchan not found.\n",
      "427:Meadow Lake - Successfully added.\n",
      "428:Kenai - Successfully added.\n",
      "ust-kamchatsk not found.\n",
      "429:Smithers - Successfully added.\n",
      "430:El Cobre - Successfully added.\n",
      "illoqqortoormiut not found.\n",
      "431:Port-Gentil - Successfully added.\n",
      "432:Sinnamary - Successfully added.\n",
      "433:Dicabisagan - Successfully added.\n"
     ]
    },
    {
     "name": "stdout",
     "output_type": "stream",
     "text": [
      "434:Monrovia - Successfully added.\n",
      "435:Bilibino - Successfully added.\n",
      "436:Alta Floresta - Successfully added.\n",
      "437:Varberg - Successfully added.\n",
      "438:Antalaha - Successfully added.\n",
      "439:Lapua - Successfully added.\n",
      "440:Zhangye - Successfully added.\n",
      "441:Torbay - Successfully added.\n",
      "442:Storsteinnes - Successfully added.\n",
      "443:Nastola - Successfully added.\n",
      "444:Dabakala - Successfully added.\n",
      "445:Diu - Successfully added.\n",
      "446:Ruska Poliana - Successfully added.\n",
      "447:Pyinmana - Successfully added.\n",
      "448:Bay Roberts - Successfully added.\n",
      "449:Miami - Successfully added.\n",
      "450:Piney Green - Successfully added.\n",
      "451:Hirara - Successfully added.\n",
      "452:Korla - Successfully added.\n",
      "453:Neuquén - Successfully added.\n",
      "kracheh not found.\n",
      "454:Acajutla - Successfully added.\n",
      "455:Chara - Successfully added.\n",
      "456:Karratha - Successfully added.\n",
      "457:Loja - Successfully added.\n",
      "458:Marolambo - Successfully added.\n",
      "459:Coquimbo - Successfully added.\n",
      "460:Gunjur - Successfully added.\n",
      "461:Ketchikan - Successfully added.\n",
      "462:Tilichiki - Successfully added.\n",
      "463:Câmara de Lobos - Successfully added.\n",
      "464:Bad Doberan - Successfully added.\n",
      "465:Enid - Successfully added.\n",
      "466:Sychëvka - Successfully added.\n",
      "467:Novoagansk - Successfully added.\n",
      "galiwinku not found.\n",
      "tasbuget not found.\n",
      "468:Champerico - Successfully added.\n",
      "469:Artigas - Successfully added.\n",
      "470:Balkanabat - Successfully added.\n",
      "471:Ancud - Successfully added.\n",
      "472:Yumen - Successfully added.\n",
      "473:Okato - Successfully added.\n",
      "474:Amahai - Successfully added.\n",
      "475:Santa Cruz de la Sierra - Successfully added.\n",
      "476:Jumla - Successfully added.\n",
      "477:Tabou - Successfully added.\n",
      "478:Buala - Successfully added.\n",
      "479:High Point - Successfully added.\n",
      "480:Krasnokamensk - Successfully added.\n",
      "481:Husavik - Successfully added.\n",
      "482:Laguna - Successfully added.\n",
      "483:Necochea - Successfully added.\n",
      "484:Winslow - Successfully added.\n",
      "485:Morant Bay - Successfully added.\n",
      "486:Batagay-Alyta - Successfully added.\n",
      "487:Chumikan - Successfully added.\n",
      "488:Amalāpuram - Successfully added.\n",
      "489:Mahenge - Successfully added.\n",
      "490:Olinda - Successfully added.\n",
      "491:Rocha - Successfully added.\n",
      "492:Pareora - Successfully added.\n",
      "493:Pangody - Successfully added.\n",
      "skagastrond not found.\n",
      "494:Saint George - Successfully added.\n",
      "495:Luba - Successfully added.\n",
      "496:Dakar - Successfully added.\n",
      "497:Charters Towers - Successfully added.\n",
      "498:Sept-Îles - Successfully added.\n",
      "499:San Jose - Successfully added.\n",
      "500:Zhezkazgan - Successfully added.\n"
     ]
    },
    {
     "data": {
      "text/html": [
       "<div>\n",
       "<style scoped>\n",
       "    .dataframe tbody tr th:only-of-type {\n",
       "        vertical-align: middle;\n",
       "    }\n",
       "\n",
       "    .dataframe tbody tr th {\n",
       "        vertical-align: top;\n",
       "    }\n",
       "\n",
       "    .dataframe thead th {\n",
       "        text-align: right;\n",
       "    }\n",
       "</style>\n",
       "<table border=\"1\" class=\"dataframe\">\n",
       "  <thead>\n",
       "    <tr style=\"text-align: right;\">\n",
       "      <th></th>\n",
       "      <th>Name</th>\n",
       "      <th>Latitude (°)</th>\n",
       "      <th>Longitude (°)</th>\n",
       "      <th>Temperature (F)</th>\n",
       "      <th>Humidity (%)</th>\n",
       "      <th>Wind Speed (mph)</th>\n",
       "      <th>Cloudiness (%)</th>\n",
       "    </tr>\n",
       "  </thead>\n",
       "  <tbody>\n",
       "    <tr>\n",
       "      <th>0</th>\n",
       "      <td>Aklavik</td>\n",
       "      <td>68.22</td>\n",
       "      <td>-135.01</td>\n",
       "      <td>35.60</td>\n",
       "      <td>93</td>\n",
       "      <td>4.70</td>\n",
       "      <td>90</td>\n",
       "    </tr>\n",
       "    <tr>\n",
       "      <th>1</th>\n",
       "      <td>Sistranda</td>\n",
       "      <td>63.73</td>\n",
       "      <td>8.83</td>\n",
       "      <td>53.60</td>\n",
       "      <td>93</td>\n",
       "      <td>11.41</td>\n",
       "      <td>75</td>\n",
       "    </tr>\n",
       "    <tr>\n",
       "      <th>2</th>\n",
       "      <td>Punta Arenas</td>\n",
       "      <td>-53.15</td>\n",
       "      <td>-70.92</td>\n",
       "      <td>42.39</td>\n",
       "      <td>81</td>\n",
       "      <td>12.75</td>\n",
       "      <td>98</td>\n",
       "    </tr>\n",
       "    <tr>\n",
       "      <th>3</th>\n",
       "      <td>Manakara</td>\n",
       "      <td>-22.13</td>\n",
       "      <td>48.02</td>\n",
       "      <td>64.31</td>\n",
       "      <td>89</td>\n",
       "      <td>7.02</td>\n",
       "      <td>0</td>\n",
       "    </tr>\n",
       "    <tr>\n",
       "      <th>4</th>\n",
       "      <td>Albany</td>\n",
       "      <td>42.60</td>\n",
       "      <td>-73.97</td>\n",
       "      <td>41.67</td>\n",
       "      <td>58</td>\n",
       "      <td>3.91</td>\n",
       "      <td>0</td>\n",
       "    </tr>\n",
       "    <tr>\n",
       "      <th>...</th>\n",
       "      <td>...</td>\n",
       "      <td>...</td>\n",
       "      <td>...</td>\n",
       "      <td>...</td>\n",
       "      <td>...</td>\n",
       "      <td>...</td>\n",
       "      <td>...</td>\n",
       "    </tr>\n",
       "    <tr>\n",
       "      <th>495</th>\n",
       "      <td>Dakar</td>\n",
       "      <td>14.69</td>\n",
       "      <td>-17.44</td>\n",
       "      <td>78.80</td>\n",
       "      <td>88</td>\n",
       "      <td>3.36</td>\n",
       "      <td>20</td>\n",
       "    </tr>\n",
       "    <tr>\n",
       "      <th>496</th>\n",
       "      <td>Charters Towers</td>\n",
       "      <td>-20.10</td>\n",
       "      <td>146.27</td>\n",
       "      <td>87.89</td>\n",
       "      <td>35</td>\n",
       "      <td>13.15</td>\n",
       "      <td>0</td>\n",
       "    </tr>\n",
       "    <tr>\n",
       "      <th>497</th>\n",
       "      <td>Sept-Îles</td>\n",
       "      <td>50.20</td>\n",
       "      <td>-66.38</td>\n",
       "      <td>30.20</td>\n",
       "      <td>92</td>\n",
       "      <td>3.36</td>\n",
       "      <td>5</td>\n",
       "    </tr>\n",
       "    <tr>\n",
       "      <th>498</th>\n",
       "      <td>San Jose</td>\n",
       "      <td>37.34</td>\n",
       "      <td>-121.89</td>\n",
       "      <td>76.28</td>\n",
       "      <td>44</td>\n",
       "      <td>12.75</td>\n",
       "      <td>75</td>\n",
       "    </tr>\n",
       "    <tr>\n",
       "      <th>499</th>\n",
       "      <td>Zhezkazgan</td>\n",
       "      <td>47.80</td>\n",
       "      <td>67.71</td>\n",
       "      <td>42.80</td>\n",
       "      <td>70</td>\n",
       "      <td>8.95</td>\n",
       "      <td>90</td>\n",
       "    </tr>\n",
       "  </tbody>\n",
       "</table>\n",
       "<p>500 rows × 7 columns</p>\n",
       "</div>"
      ],
      "text/plain": [
       "                Name  Latitude (°)  Longitude (°)  Temperature (F)  \\\n",
       "0            Aklavik         68.22        -135.01            35.60   \n",
       "1          Sistranda         63.73           8.83            53.60   \n",
       "2       Punta Arenas        -53.15         -70.92            42.39   \n",
       "3           Manakara        -22.13          48.02            64.31   \n",
       "4             Albany         42.60         -73.97            41.67   \n",
       "..               ...           ...            ...              ...   \n",
       "495            Dakar         14.69         -17.44            78.80   \n",
       "496  Charters Towers        -20.10         146.27            87.89   \n",
       "497        Sept-Îles         50.20         -66.38            30.20   \n",
       "498         San Jose         37.34        -121.89            76.28   \n",
       "499       Zhezkazgan         47.80          67.71            42.80   \n",
       "\n",
       "     Humidity (%)  Wind Speed (mph)  Cloudiness (%)  \n",
       "0              93              4.70              90  \n",
       "1              93             11.41              75  \n",
       "2              81             12.75              98  \n",
       "3              89              7.02               0  \n",
       "4              58              3.91               0  \n",
       "..            ...               ...             ...  \n",
       "495            88              3.36              20  \n",
       "496            35             13.15               0  \n",
       "497            92              3.36               5  \n",
       "498            44             12.75              75  \n",
       "499            70              8.95              90  \n",
       "\n",
       "[500 rows x 7 columns]"
      ]
     },
     "execution_count": 88,
     "metadata": {},
     "output_type": "execute_result"
    }
   ],
   "source": [
    "# set up lists to hold reponse info\n",
    "lat = []\n",
    "lon = []\n",
    "temp = []\n",
    "name = []\n",
    "humidity = []\n",
    "wind = []\n",
    "cloudiness = []\n",
    "counter = 1\n",
    "\n",
    "# Loop through the list of cities and perform a request for data on each\n",
    "for city in cities_list:\n",
    "    if len(name) < 500:\n",
    "        try:\n",
    "            response = requests.get(query_url + city).json()\n",
    "            temp.append(response['main']['temp'])\n",
    "            lat.append(response['coord']['lat'])\n",
    "            lon.append(response['coord']['lon'])\n",
    "            name.append(response['name'])\n",
    "            humidity.append(response['main']['humidity'])\n",
    "            wind.append(response['wind']['speed'])\n",
    "            cloudiness.append(response['clouds']['all'])\n",
    "            city_name = response['name']\n",
    "            print(f\"{counter}:\" + city_name + \" - Successfully added.\")\n",
    "            counter += 1\n",
    "        except:\n",
    "            print(city + \" not found.\")\n",
    "    else:\n",
    "        break\n",
    "        \n",
    "        \n",
    "dict = {'Name': name, \n",
    "        'Latitude (°)': lat,\n",
    "        'Longitude (°)': lon,\n",
    "        'Temperature (F)': temp, \n",
    "        'Humidity (%)': humidity, \n",
    "        'Wind Speed (mph)': wind, \n",
    "        'Cloudiness (%)': cloudiness\n",
    "       }    \n",
    "city_weather = pd.DataFrame(dict)\n",
    "city_weather\n"
   ]
  },
  {
   "cell_type": "code",
   "execution_count": 89,
   "metadata": {
    "scrolled": true
   },
   "outputs": [
    {
     "data": {
      "text/html": [
       "<div>\n",
       "<style scoped>\n",
       "    .dataframe tbody tr th:only-of-type {\n",
       "        vertical-align: middle;\n",
       "    }\n",
       "\n",
       "    .dataframe tbody tr th {\n",
       "        vertical-align: top;\n",
       "    }\n",
       "\n",
       "    .dataframe thead th {\n",
       "        text-align: right;\n",
       "    }\n",
       "</style>\n",
       "<table border=\"1\" class=\"dataframe\">\n",
       "  <thead>\n",
       "    <tr style=\"text-align: right;\">\n",
       "      <th></th>\n",
       "      <th>Name</th>\n",
       "      <th>Latitude (°)</th>\n",
       "      <th>Longitude (°)</th>\n",
       "      <th>Temperature (F)</th>\n",
       "      <th>Humidity (%)</th>\n",
       "      <th>Wind Speed (mph)</th>\n",
       "      <th>Cloudiness (%)</th>\n",
       "    </tr>\n",
       "  </thead>\n",
       "  <tbody>\n",
       "    <tr>\n",
       "      <th>86</th>\n",
       "      <td>Ushuaia</td>\n",
       "      <td>-54.80</td>\n",
       "      <td>-68.30</td>\n",
       "      <td>42.80</td>\n",
       "      <td>82</td>\n",
       "      <td>4.70</td>\n",
       "      <td>75</td>\n",
       "    </tr>\n",
       "    <tr>\n",
       "      <th>2</th>\n",
       "      <td>Punta Arenas</td>\n",
       "      <td>-53.15</td>\n",
       "      <td>-70.92</td>\n",
       "      <td>42.39</td>\n",
       "      <td>81</td>\n",
       "      <td>12.75</td>\n",
       "      <td>98</td>\n",
       "    </tr>\n",
       "    <tr>\n",
       "      <th>25</th>\n",
       "      <td>Bluff</td>\n",
       "      <td>-46.60</td>\n",
       "      <td>168.33</td>\n",
       "      <td>53.37</td>\n",
       "      <td>62</td>\n",
       "      <td>7.43</td>\n",
       "      <td>85</td>\n",
       "    </tr>\n",
       "    <tr>\n",
       "      <th>26</th>\n",
       "      <td>Kaitangata</td>\n",
       "      <td>-46.28</td>\n",
       "      <td>169.85</td>\n",
       "      <td>57.99</td>\n",
       "      <td>63</td>\n",
       "      <td>5.99</td>\n",
       "      <td>0</td>\n",
       "    </tr>\n",
       "    <tr>\n",
       "      <th>5</th>\n",
       "      <td>Mataura</td>\n",
       "      <td>-46.19</td>\n",
       "      <td>168.86</td>\n",
       "      <td>60.39</td>\n",
       "      <td>45</td>\n",
       "      <td>9.13</td>\n",
       "      <td>62</td>\n",
       "    </tr>\n",
       "    <tr>\n",
       "      <th>...</th>\n",
       "      <td>...</td>\n",
       "      <td>...</td>\n",
       "      <td>...</td>\n",
       "      <td>...</td>\n",
       "      <td>...</td>\n",
       "      <td>...</td>\n",
       "      <td>...</td>\n",
       "    </tr>\n",
       "    <tr>\n",
       "      <th>69</th>\n",
       "      <td>Khatanga</td>\n",
       "      <td>71.97</td>\n",
       "      <td>102.50</td>\n",
       "      <td>44.91</td>\n",
       "      <td>76</td>\n",
       "      <td>8.72</td>\n",
       "      <td>16</td>\n",
       "    </tr>\n",
       "    <tr>\n",
       "      <th>6</th>\n",
       "      <td>Upernavik</td>\n",
       "      <td>72.79</td>\n",
       "      <td>-56.15</td>\n",
       "      <td>29.03</td>\n",
       "      <td>88</td>\n",
       "      <td>7.70</td>\n",
       "      <td>89</td>\n",
       "    </tr>\n",
       "    <tr>\n",
       "      <th>38</th>\n",
       "      <td>Dikson</td>\n",
       "      <td>73.51</td>\n",
       "      <td>80.55</td>\n",
       "      <td>40.69</td>\n",
       "      <td>92</td>\n",
       "      <td>15.39</td>\n",
       "      <td>100</td>\n",
       "    </tr>\n",
       "    <tr>\n",
       "      <th>140</th>\n",
       "      <td>Qaanaaq</td>\n",
       "      <td>77.48</td>\n",
       "      <td>-69.36</td>\n",
       "      <td>16.18</td>\n",
       "      <td>92</td>\n",
       "      <td>3.67</td>\n",
       "      <td>80</td>\n",
       "    </tr>\n",
       "    <tr>\n",
       "      <th>124</th>\n",
       "      <td>Longyearbyen</td>\n",
       "      <td>78.22</td>\n",
       "      <td>15.64</td>\n",
       "      <td>35.60</td>\n",
       "      <td>69</td>\n",
       "      <td>19.46</td>\n",
       "      <td>75</td>\n",
       "    </tr>\n",
       "  </tbody>\n",
       "</table>\n",
       "<p>500 rows × 7 columns</p>\n",
       "</div>"
      ],
      "text/plain": [
       "             Name  Latitude (°)  Longitude (°)  Temperature (F)  Humidity (%)  \\\n",
       "86        Ushuaia        -54.80         -68.30            42.80            82   \n",
       "2    Punta Arenas        -53.15         -70.92            42.39            81   \n",
       "25          Bluff        -46.60         168.33            53.37            62   \n",
       "26     Kaitangata        -46.28         169.85            57.99            63   \n",
       "5         Mataura        -46.19         168.86            60.39            45   \n",
       "..            ...           ...            ...              ...           ...   \n",
       "69       Khatanga         71.97         102.50            44.91            76   \n",
       "6       Upernavik         72.79         -56.15            29.03            88   \n",
       "38         Dikson         73.51          80.55            40.69            92   \n",
       "140       Qaanaaq         77.48         -69.36            16.18            92   \n",
       "124  Longyearbyen         78.22          15.64            35.60            69   \n",
       "\n",
       "     Wind Speed (mph)  Cloudiness (%)  \n",
       "86               4.70              75  \n",
       "2               12.75              98  \n",
       "25               7.43              85  \n",
       "26               5.99               0  \n",
       "5                9.13              62  \n",
       "..                ...             ...  \n",
       "69               8.72              16  \n",
       "6                7.70              89  \n",
       "38              15.39             100  \n",
       "140              3.67              80  \n",
       "124             19.46              75  \n",
       "\n",
       "[500 rows x 7 columns]"
      ]
     },
     "execution_count": 89,
     "metadata": {},
     "output_type": "execute_result"
    }
   ],
   "source": [
    "city_weather.sort_values(by='Latitude (°)', ascending=True)"
   ]
  },
  {
   "cell_type": "code",
   "execution_count": 65,
   "metadata": {
    "scrolled": true
   },
   "outputs": [
    {
     "data": {
      "image/png": "[encoded data removed]",
      "text/plain": [
       "<Figure size 432x288 with 1 Axes>"
      ]
     },
     "metadata": {
      "needs_background": "light"
     },
     "output_type": "display_data"
    }
   ],
   "source": [
    "# Temperature\n",
    "coldest = city_weather.loc[(city_weather['Temperature (F)'] == (city_weather['Temperature (F)'].min()))]\n",
    "coldest\n",
    "coldest_x = coldest.iloc[0]['Latitude (°)'] + 1\n",
    "coldest_y = coldest.iloc[0]['Temperature (F)']\n",
    "coldest_name = coldest.iloc[0]['Name']\n",
    "\n",
    "plt.annotate(xy=[coldest_x, coldest_y], text=\"Coldest city: \" + coldest_name)\n",
    "plt.scatter(lat, temp, marker=\"o\", facecolors=\"red\", edgecolors=\"black\")\n",
    "plt.title(\"Temperature vs. Latitude (°)\")\n",
    "plt.xlabel(\"Latitude (°)\")\n",
    "plt.ylabel(\"Temperature (Fahrenheit)\")\n",
    "plt.savefig(\"../WeatherPy/temp_lat.png\")\n",
    "plt.show()"
   ]
  },
  {
   "cell_type": "markdown",
   "metadata": {},
   "source": [
    "Observations:\n",
    "1. Not surprisingly, the plot shows the warmest cities around 0 degrees latitude (i.e. Earth's equator) and temperatures falling as they move farther north and south.\n",
    "2. Many more cities are found in the northern hemisphere, and there are more cities located closer to the North Pole than cities located near the South Pole. This is also intuitive as there is more land mass closer to the North Pole than South Pole."
   ]
  },
  {
   "cell_type": "code",
   "execution_count": 66,
   "metadata": {
    "scrolled": false
   },
   "outputs": [
    {
     "data": {
      "image/png": "[encoded data removed]",
      "text/plain": [
       "<Figure size 432x288 with 1 Axes>"
      ]
     },
     "metadata": {
      "needs_background": "light"
     },
     "output_type": "display_data"
    }
   ],
   "source": [
    "# Humidity\n",
    "plt.scatter(lat, humidity, marker=\"o\", facecolors=\"red\", edgecolors=\"black\")\n",
    "plt.title(\"Humidity (%) vs. Latitude (°)\")\n",
    "plt.xlabel(\"Latitude (°)\")\n",
    "plt.ylabel(\"Humidity (%)\")\n",
    "plt.savefig(\"../WeatherPy/humidity_lat.png\")\n",
    "plt.show()"
   ]
  },
  {
   "cell_type": "markdown",
   "metadata": {},
   "source": [
    "Observations:\n",
    "\n",
    "Low humidity (i.e. less than 50%) cities are mostly clustered around 40-50 degrees north of the equator. Northern hemisphere cities grow much more humid as they approach either the North Pole or Equator. (I would need to study more about how humidity works to confidently say why this is.) :-)"
   ]
  },
  {
   "cell_type": "code",
   "execution_count": 67,
   "metadata": {
    "scrolled": false
   },
   "outputs": [
    {
     "data": {
      "image/png": "[encoded data removed]",
      "text/plain": [
       "<Figure size 432x288 with 1 Axes>"
      ]
     },
     "metadata": {
      "needs_background": "light"
     },
     "output_type": "display_data"
    }
   ],
   "source": [
    "# Cloudiness\n",
    "plt.scatter(lat, cloudiness, marker=\"o\", facecolors=\"red\", edgecolors=\"black\")\n",
    "plt.title(\"Cloudiness (%) vs. Latitude (°)\")\n",
    "plt.xlabel(\"Latitude (°)\")\n",
    "plt.ylabel(\"Cloudiness (%)\")\n",
    "plt.savefig(\"../WeatherPy/clouds_lat.png\")\n",
    "plt.show()"
   ]
  },
  {
   "cell_type": "markdown",
   "metadata": {},
   "source": [
    "Observations:\n",
    "\n",
    "Cloudiness measurements appear to often fall into buckets (e.g. 0%, 40%, 100%) as opposed to cloudiness being more specifically measured. I was curious about this and Googled to learn that cloudiness is officially measured in integer units called oktas. This would explain some bucketing... though I would need to do more research to determine why not all of the measurements are evenly bucketed. "
   ]
  },
  {
   "cell_type": "code",
   "execution_count": 68,
   "metadata": {
    "scrolled": false
   },
   "outputs": [
    {
     "data": {
      "image/png": "[encoded data removed]",
      "text/plain": [
       "<Figure size 432x288 with 1 Axes>"
      ]
     },
     "metadata": {
      "needs_background": "light"
     },
     "output_type": "display_data"
    }
   ],
   "source": [
    "# Wind Speed\n",
    "windiest = city_weather.loc[(city_weather['Wind Speed (mph)'] == (city_weather['Wind Speed (mph)'].max()))]\n",
    "windiest\n",
    "windiest_x = windiest.iloc[0]['Latitude (°)'] + 1\n",
    "windiest_y = windiest.iloc[0]['Wind Speed (mph)']\n",
    "windiest_name = windiest.iloc[0]['Name']\n",
    "\n",
    "plt.annotate(xy=[windiest_x, windiest_y], text=\"Windiest city: \" + windiest_name)\n",
    "plt.scatter(lat, wind, marker=\"o\", facecolors=\"red\", edgecolors=\"black\")\n",
    "plt.title(\"Wind Speed (mph) vs. Latitude (°)\")\n",
    "plt.xlabel(\"Latitude (°)\")\n",
    "plt.ylabel(\"Wind Speed (mph)\")\n",
    "plt.savefig(\"../WeatherPy/wind_lat.png\")\n",
    "plt.show()"
   ]
  },
  {
   "cell_type": "markdown",
   "metadata": {},
   "source": [
    "Observations:\n",
    "\n",
    "1. Most cities have average wind speeds under 10 mph.\n",
    "2. There does not appear to be much correlation between latitude and wind speed."
   ]
  },
  {
   "cell_type": "code",
   "execution_count": 69,
   "metadata": {},
   "outputs": [],
   "source": [
    "# Creating categories\n",
    "dict = {'City':name,\n",
    "        'Temp':temp,\n",
    "        'Lat':lat,\n",
    "        'Wind':wind,\n",
    "        'Humidity':humidity,\n",
    "        'Cloudiness':cloudiness}\n",
    "\n",
    "cities_df = pd.DataFrame(dict)\n",
    "cities_df\n",
    "north_cities = cities_df.loc[cities_df['Lat'] >= 0]\n",
    "north_cities\n",
    "south_cities = cities_df.loc[cities_df['Lat'] < 0]\n",
    "south_cities\n",
    "\n",
    "north_lat = north_cities['Lat']\n",
    "north_city = north_cities['City']\n",
    "north_temp = north_cities['Temp']\n",
    "north_wind = north_cities['Wind']\n",
    "north_humidity = north_cities['Humidity']\n",
    "north_cloudiness = north_cities['Cloudiness']\n",
    "\n",
    "south_lat = south_cities['Lat']\n",
    "south_name = south_cities['City']\n",
    "south_temp = south_cities['Temp']\n",
    "south_wind = south_cities['Wind']\n",
    "south_humidity = south_cities['Humidity']\n",
    "south_cloudiness = south_cities['Cloudiness']"
   ]
  },
  {
   "cell_type": "code",
   "execution_count": 70,
   "metadata": {},
   "outputs": [
    {
     "data": {
      "text/html": [
       "<div>\n",
       "<style scoped>\n",
       "    .dataframe tbody tr th:only-of-type {\n",
       "        vertical-align: middle;\n",
       "    }\n",
       "\n",
       "    .dataframe tbody tr th {\n",
       "        vertical-align: top;\n",
       "    }\n",
       "\n",
       "    .dataframe thead th {\n",
       "        text-align: right;\n",
       "    }\n",
       "</style>\n",
       "<table border=\"1\" class=\"dataframe\">\n",
       "  <thead>\n",
       "    <tr style=\"text-align: right;\">\n",
       "      <th></th>\n",
       "      <th>Name</th>\n",
       "      <th>Latitude (°)</th>\n",
       "      <th>Temperature (F)</th>\n",
       "      <th>Humidity (%)</th>\n",
       "      <th>Wind Speed (mph)</th>\n",
       "      <th>Cloudiness (%)</th>\n",
       "    </tr>\n",
       "  </thead>\n",
       "  <tbody>\n",
       "    <tr>\n",
       "      <th>418</th>\n",
       "      <td>Sonoita</td>\n",
       "      <td>31.85</td>\n",
       "      <td>93.99</td>\n",
       "      <td>22</td>\n",
       "      <td>7.00</td>\n",
       "      <td>0</td>\n",
       "    </tr>\n",
       "    <tr>\n",
       "      <th>84</th>\n",
       "      <td>Saint George</td>\n",
       "      <td>37.10</td>\n",
       "      <td>91.78</td>\n",
       "      <td>14</td>\n",
       "      <td>12.75</td>\n",
       "      <td>1</td>\n",
       "    </tr>\n",
       "    <tr>\n",
       "      <th>43</th>\n",
       "      <td>Barabai</td>\n",
       "      <td>-2.58</td>\n",
       "      <td>91.36</td>\n",
       "      <td>55</td>\n",
       "      <td>1.07</td>\n",
       "      <td>1</td>\n",
       "    </tr>\n",
       "    <tr>\n",
       "      <th>305</th>\n",
       "      <td>Santa Rosa</td>\n",
       "      <td>14.31</td>\n",
       "      <td>90.34</td>\n",
       "      <td>62</td>\n",
       "      <td>4.70</td>\n",
       "      <td>20</td>\n",
       "    </tr>\n",
       "    <tr>\n",
       "      <th>394</th>\n",
       "      <td>Arlit</td>\n",
       "      <td>18.74</td>\n",
       "      <td>90.16</td>\n",
       "      <td>16</td>\n",
       "      <td>5.84</td>\n",
       "      <td>0</td>\n",
       "    </tr>\n",
       "  </tbody>\n",
       "</table>\n",
       "</div>"
      ],
      "text/plain": [
       "             Name  Latitude (°)  Temperature (F)  Humidity (%)  \\\n",
       "418       Sonoita         31.85            93.99            22   \n",
       "84   Saint George         37.10            91.78            14   \n",
       "43        Barabai         -2.58            91.36            55   \n",
       "305    Santa Rosa         14.31            90.34            62   \n",
       "394         Arlit         18.74            90.16            16   \n",
       "\n",
       "     Wind Speed (mph)  Cloudiness (%)  \n",
       "418              7.00               0  \n",
       "84              12.75               1  \n",
       "43               1.07               1  \n",
       "305              4.70              20  \n",
       "394              5.84               0  "
      ]
     },
     "execution_count": 70,
     "metadata": {},
     "output_type": "execute_result"
    }
   ],
   "source": [
    "city_weather.sort_values(by='Temperature (F)', ascending=False).head(5)"
   ]
  },
  {
   "cell_type": "code",
   "execution_count": 71,
   "metadata": {
    "scrolled": true
   },
   "outputs": [
    {
     "data": {
      "image/png": "[encoded data removed]",
      "text/plain": [
       "<Figure size 432x288 with 1 Axes>"
      ]
     },
     "metadata": {
      "needs_background": "light"
     },
     "output_type": "display_data"
    },
    {
     "name": "stdout",
     "output_type": "stream",
     "text": [
      "The linear regression equation is: y = -0.66x + 87.05\n",
      "The r-squared is: 0.6704515426853764\n"
     ]
    }
   ],
   "source": [
    "# Northern Hemisphere - Temp vs. Latitude \n",
    "(slope, intercept, rvalue, pvalue, stderr) = linregress(north_lat, north_temp)\n",
    "regress_values = north_lat * slope + intercept\n",
    "line_eq = \"y = \" + str(round(slope,2)) + \"x + \" + str(round(intercept,2))\n",
    "plt.scatter(north_lat, north_temp, marker=\"o\", facecolors=\"red\", edgecolors=\"black\")\n",
    "plt.plot(north_lat,regress_values,\"r-\")\n",
    "plt.annotate(line_eq,(0,30),fontsize=15,color=\"blue\")\n",
    "plt.title(\"Northern Hemisphere: Temperature (F) vs. Latitude (°)\")\n",
    "plt.xlabel(\"Latitude (°)\")\n",
    "plt.ylabel(\"Temperature (F)\")\n",
    "plt.savefig(\"../WeatherPy/north_temp_lat.png\")\n",
    "plt.show()\n",
    "print(f\"The linear regression equation is: {line_eq}\")\n",
    "print(f\"The r-squared is: {rvalue**2}\")"
   ]
  },
  {
   "cell_type": "markdown",
   "metadata": {},
   "source": [
    "Observations:\n",
    "\n",
    "1. Temperature and latitude are very strongly correlated, not surprisingly.\n",
    "2. I would guess altitude largely explains the outliers, but that will take more research to validate."
   ]
  },
  {
   "cell_type": "code",
   "execution_count": 72,
   "metadata": {
    "scrolled": false
   },
   "outputs": [
    {
     "data": {
      "image/png": "[encoded data removed]",
      "text/plain": [
       "<Figure size 432x288 with 1 Axes>"
      ]
     },
     "metadata": {
      "needs_background": "light"
     },
     "output_type": "display_data"
    },
    {
     "name": "stdout",
     "output_type": "stream",
     "text": [
      "The linear regression equation is: y = 0.71x + 82.58\n",
      "The r-squared is: 0.571454756947158\n"
     ]
    }
   ],
   "source": [
    "# Southern Hemisphere - Temp vs. Latitude \n",
    "(slope, intercept, rvalue, pvalue, stderr) = linregress(south_lat, south_temp)\n",
    "regress_values = south_lat * slope + intercept\n",
    "line_eq = \"y = \" + str(round(slope,2)) + \"x + \" + str(round(intercept,2))\n",
    "plt.scatter(south_lat, south_temp, marker=\"o\", facecolors=\"red\", edgecolors=\"black\")\n",
    "plt.plot(south_lat,regress_values,\"r-\")\n",
    "plt.annotate(line_eq,(-55,70),fontsize=15,color=\"blue\")\n",
    "plt.title(\"Southern Hemisphere: Temperature (F) vs. Latitude (°)\")\n",
    "plt.xlabel(\"Latitude (°)\")\n",
    "plt.ylabel(\"Temperature (F)\")\n",
    "plt.savefig(\"../WeatherPy/south_temp_lat.png\")\n",
    "plt.show()\n",
    "print(f\"The linear regression equation is: {line_eq}\")\n",
    "print(f\"The r-squared is: {rvalue**2}\")"
   ]
  },
  {
   "cell_type": "markdown",
   "metadata": {},
   "source": [
    "Observations:\n",
    "\n",
    "Temperature and latitude are still somewhat correlated in the Southern hemisphere but not as much as they are in the Northern hemisphere. This could possibly be due to there being very few cities within 40 degrees of the South Pole."
   ]
  },
  {
   "cell_type": "code",
   "execution_count": 73,
   "metadata": {},
   "outputs": [
    {
     "data": {
      "image/png": "[encoded data removed]",
      "text/plain": [
       "<Figure size 432x288 with 1 Axes>"
      ]
     },
     "metadata": {
      "needs_background": "light"
     },
     "output_type": "display_data"
    },
    {
     "name": "stdout",
     "output_type": "stream",
     "text": [
      "The linear regression equation is: y = 0.01x + 72.29\n",
      "The r-squared is: 4.3785914767637515e-05\n"
     ]
    }
   ],
   "source": [
    "# Northern Hemisphere - Humidity vs. Latitude \n",
    "(slope, intercept, rvalue, pvalue, stderr) = linregress(north_lat, north_humidity)\n",
    "regress_values = north_lat * slope + intercept\n",
    "line_eq = \"y = \" + str(round(slope,2)) + \"x + \" + str(round(intercept,2))\n",
    "plt.scatter(north_lat, north_humidity, marker=\"o\", facecolors=\"red\", edgecolors=\"black\")\n",
    "plt.plot(north_lat,regress_values,\"r-\")\n",
    "plt.annotate(line_eq,(0,40),fontsize=15,color=\"blue\")\n",
    "plt.title(\"Northern Hemisphere: Humidity (%) vs. Latitude (°)\")\n",
    "plt.xlabel(\"Latitude (°)\")\n",
    "plt.ylabel(\"Humidity (%)\")\n",
    "plt.savefig(\"../WeatherPy/north_humidity_lat.png\")\n",
    "plt.show()\n",
    "print(f\"The linear regression equation is: {line_eq}\")\n",
    "print(f\"The r-squared is: {rvalue**2}\")"
   ]
  },
  {
   "cell_type": "markdown",
   "metadata": {},
   "source": [
    "Observation:\n",
    "\n",
    "Somewhat surprisingly to me, humidity and latitude have almost no correlation."
   ]
  },
  {
   "cell_type": "code",
   "execution_count": 74,
   "metadata": {
    "scrolled": false
   },
   "outputs": [
    {
     "data": {
      "image/png": "[encoded data removed]",
      "text/plain": [
       "<Figure size 432x288 with 1 Axes>"
      ]
     },
     "metadata": {
      "needs_background": "light"
     },
     "output_type": "display_data"
    },
    {
     "name": "stdout",
     "output_type": "stream",
     "text": [
      "The linear regression equation is: y = 0.24x + 71.6\n",
      "The r-squared is: 0.02670559664492912\n"
     ]
    }
   ],
   "source": [
    "# Southern Hemisphere - Humidity vs. Latitude \n",
    "(slope, intercept, rvalue, pvalue, stderr) = linregress(south_lat, south_humidity)\n",
    "regress_values = south_lat * slope + intercept\n",
    "line_eq = \"y = \" + str(round(slope,2)) + \"x + \" + str(round(intercept,2))\n",
    "plt.scatter(south_lat, south_humidity, marker=\"o\", facecolors=\"red\", edgecolors=\"black\")\n",
    "plt.plot(south_lat,regress_values,\"r-\")\n",
    "plt.annotate(line_eq,(-50,50),fontsize=15,color=\"blue\")\n",
    "plt.title(\"Southern Hemisphere: Humidity (%) vs. Latitude (°)\")\n",
    "plt.xlabel(\"Latitude (°)\")\n",
    "plt.ylabel(\"Humidity (%)\")\n",
    "plt.savefig(\"../WeatherPy/south_humidity_lat.png\")\n",
    "plt.show()\n",
    "print(f\"The linear regression equation is: {line_eq}\")\n",
    "print(f\"The r-squared is: {rvalue**2}\")"
   ]
  },
  {
   "cell_type": "markdown",
   "metadata": {},
   "source": [
    "Observation:\n",
    "\n",
    "Humidity and latitude have almost no correlation."
   ]
  },
  {
   "cell_type": "code",
   "execution_count": 75,
   "metadata": {
    "scrolled": true
   },
   "outputs": [
    {
     "data": {
      "image/png": "[encoded data removed]",
      "text/plain": [
       "<Figure size 432x288 with 1 Axes>"
      ]
     },
     "metadata": {
      "needs_background": "light"
     },
     "output_type": "display_data"
    },
    {
     "name": "stdout",
     "output_type": "stream",
     "text": [
      "The linear regression equation is: y = 0.06x + 51.69\n",
      "The r-squared is: 0.000870149325622566\n"
     ]
    }
   ],
   "source": [
    "# Northern Hemisphere - Cloudiness vs. Latitude \n",
    "(slope, intercept, rvalue, pvalue, stderr) = linregress(north_lat, north_cloudiness)\n",
    "regress_values = north_lat * slope + intercept\n",
    "line_eq = \"y = \" + str(round(slope,2)) + \"x + \" + str(round(intercept,2))\n",
    "plt.scatter(north_lat, north_cloudiness, marker=\"o\", facecolors=\"red\", edgecolors=\"black\")\n",
    "plt.plot(north_lat,regress_values,\"r-\")\n",
    "plt.annotate(line_eq,(8,60),fontsize=15,color=\"blue\")\n",
    "plt.title(\"Northern Hemisphere: Cloudiness (%) vs. Latitude (°)\")\n",
    "plt.xlabel(\"Latitude (°)\")\n",
    "plt.ylabel(\"Cloudiness (%)\")\n",
    "plt.savefig(\"../WeatherPy/north_cloudiness_lat.png\")\n",
    "plt.show()\n",
    "print(f\"The linear regression equation is: {line_eq}\")\n",
    "print(f\"The r-squared is: {rvalue**2}\")"
   ]
  },
  {
   "cell_type": "markdown",
   "metadata": {},
   "source": [
    "Observation:\n",
    "\n",
    "Cloudiness and latitude have almost no correlation."
   ]
  },
  {
   "cell_type": "code",
   "execution_count": 76,
   "metadata": {
    "scrolled": true
   },
   "outputs": [
    {
     "data": {
      "image/png": "[encoded data removed]",
      "text/plain": [
       "<Figure size 432x288 with 1 Axes>"
      ]
     },
     "metadata": {
      "needs_background": "light"
     },
     "output_type": "display_data"
    },
    {
     "name": "stdout",
     "output_type": "stream",
     "text": [
      "The linear regression equation is: y = -0.12x + 41.01\n",
      "The r-squared is: 0.0021192088343102117\n"
     ]
    }
   ],
   "source": [
    "# Southern Hemisphere - Cloudiness vs. Latitude \n",
    "(slope, intercept, rvalue, pvalue, stderr) = linregress(south_lat, south_cloudiness)\n",
    "regress_values = south_lat * slope + intercept\n",
    "line_eq = \"y = \" + str(round(slope,2)) + \"x + \" + str(round(intercept,2))\n",
    "plt.scatter(south_lat, south_cloudiness, marker=\"o\", facecolors=\"red\", edgecolors=\"black\")\n",
    "plt.plot(south_lat,regress_values,\"r-\")\n",
    "plt.annotate(line_eq,(-50,50),fontsize=15,color=\"blue\")\n",
    "plt.title(\"Southern Hemisphere: Cloudiness (%) vs. Latitude (°)\")\n",
    "plt.xlabel(\"Latitude (°)\")\n",
    "plt.ylabel(\"Cloudiness (%)\")\n",
    "plt.savefig(\"../WeatherPy/south_cloudiness_lat.png\")\n",
    "plt.show()\n",
    "print(f\"The linear regression equation is: {line_eq}\")\n",
    "print(f\"The r-squared is: {rvalue**2}\")"
   ]
  },
  {
   "cell_type": "markdown",
   "metadata": {},
   "source": [
    "Observation:\n",
    "\n",
    "Cloudiness and latitude have almost no correlation."
   ]
  },
  {
   "cell_type": "code",
   "execution_count": 77,
   "metadata": {
    "scrolled": false
   },
   "outputs": [
    {
     "data": {
      "image/png": "[encoded data removed]",
      "text/plain": [
       "<Figure size 432x288 with 1 Axes>"
      ]
     },
     "metadata": {
      "needs_background": "light"
     },
     "output_type": "display_data"
    },
    {
     "name": "stdout",
     "output_type": "stream",
     "text": [
      "The linear regression equation is: y = 0.03x + 6.8\n",
      "The r-squared is: 0.010647861561236104\n"
     ]
    }
   ],
   "source": [
    "# Northern Hemisphere - Wind Speed vs. Latitude\n",
    "(slope, intercept, rvalue, pvalue, stderr) = linregress(north_lat, north_wind)\n",
    "regress_values = north_lat * slope + intercept\n",
    "line_eq = \"y = \" + str(round(slope,2)) + \"x + \" + str(round(intercept,2))\n",
    "plt.scatter(north_lat, north_wind, marker=\"o\", facecolors=\"red\", edgecolors=\"black\")\n",
    "plt.plot(north_lat,regress_values,\"r-\")\n",
    "plt.annotate(line_eq,(8,25),fontsize=15,color=\"blue\")\n",
    "plt.title(\"Northern Hemisphere: Wind Speed (mph) vs. Latitude (°)\")\n",
    "plt.xlabel(\"Latitude (°)\")\n",
    "plt.ylabel(\"Wind Speed (mph)\")\n",
    "plt.savefig(\"../WeatherPy/north_wind_lat.png\")\n",
    "plt.show()\n",
    "print(f\"The linear regression equation is: {line_eq}\")\n",
    "print(f\"The r-squared is: {rvalue**2}\")"
   ]
  },
  {
   "cell_type": "markdown",
   "metadata": {},
   "source": [
    "Observation:\n",
    "\n",
    "Wind speed and latitude have almost no correlation."
   ]
  },
  {
   "cell_type": "code",
   "execution_count": 78,
   "metadata": {
    "scrolled": true
   },
   "outputs": [
    {
     "data": {
      "image/png": "[encoded data removed]",
      "text/plain": [
       "<Figure size 432x288 with 1 Axes>"
      ]
     },
     "metadata": {
      "needs_background": "light"
     },
     "output_type": "display_data"
    },
    {
     "name": "stdout",
     "output_type": "stream",
     "text": [
      "The linear regression equation is: y = -0.05x + 7.4\n",
      "The r-squared is: 0.01362968982158626\n"
     ]
    }
   ],
   "source": [
    "# Southern Hemisphere - Wind Speed vs. Latitude\n",
    "(slope, intercept, rvalue, pvalue, stderr) = linregress(south_lat, south_wind)\n",
    "regress_values = south_lat * slope + intercept\n",
    "line_eq = \"y = \" + str(round(slope,2)) + \"x + \" + str(round(intercept,2))\n",
    "plt.scatter(south_lat, south_wind, marker=\"o\", facecolors=\"red\", edgecolors=\"black\")\n",
    "plt.plot(south_lat,regress_values,\"r-\")\n",
    "plt.annotate(line_eq,(-50,13),fontsize=15,color=\"blue\")\n",
    "plt.title(\"Southern Hemisphere: Wind Speed (mph) vs. Latitude (°)\")\n",
    "plt.xlabel(\"Latitude (°)\")\n",
    "plt.ylabel(\"Wind Speed (mph)\")\n",
    "plt.savefig(\"../WeatherPy/south_wind_lat.png\")\n",
    "plt.show()\n",
    "print(f\"The linear regression equation is: {line_eq}\")\n",
    "print(f\"The r-squared is: {rvalue**2}\")"
   ]
  },
  {
   "cell_type": "markdown",
   "metadata": {},
   "source": [
    "Observation:\n",
    "\n",
    "Wind speed and latitude have almost no correlation.\n"
   ]
  },
  {
   "cell_type": "code",
   "execution_count": 90,
   "metadata": {},
   "outputs": [],
   "source": [
    "# Saving retrieved weather data to CSV\n",
    "city_weather.to_csv(\"retrieved_weather_data.csv\",\n",
    "                  encoding=\"utf-8\", index=False, header=True)"
   ]
  },
  {
   "cell_type": "code",
   "execution_count": null,
   "metadata": {},
   "outputs": [],
   "source": []
  }
 ],
 "metadata": {
  "kernelspec": {
   "display_name": "Python 3",
   "language": "python",
   "name": "python3"
  },
  "language_info": {
   "codemirror_mode": {
    "name": "ipython",
    "version": 3
   },
   "file_extension": ".py",
   "mimetype": "text/x-python",
   "name": "python",
   "nbconvert_exporter": "python",
   "pygments_lexer": "ipython3",
   "version": "3.8.3"
  }
 },
 "nbformat": 4,
 "nbformat_minor": 4
}
