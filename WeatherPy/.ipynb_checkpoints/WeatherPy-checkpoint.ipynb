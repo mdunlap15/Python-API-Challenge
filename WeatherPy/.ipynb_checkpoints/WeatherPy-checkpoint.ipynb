{
 "cells": [
  {
   "cell_type": "code",
   "execution_count": 1,
   "metadata": {
    "scrolled": true
   },
   "outputs": [],
   "source": [
    "# Dependencies\n",
    "import matplotlib.pyplot as plt\n",
    "import requests\n",
    "from scipy import stats\n",
    "import pandas as pd\n",
    "from weather_config import api_key\n",
    "import numpy as np\n",
    "from citipy import citipy\n",
    "import random\n",
    "import json\n",
    "from scipy.stats import linregress\n",
    "from sklearn import datasets"
   ]
  },
  {
   "cell_type": "code",
   "execution_count": 2,
   "metadata": {},
   "outputs": [],
   "source": [
    "# EXAMPLE CITY\n",
    "\n",
    "# Save config information\n",
    "url = \"http://api.openweathermap.org/data/2.5/weather?\"\n",
    "city = \"Dallas\"\n",
    "api_key = \"e20c3b6406318b2050644f004b124d1a\"\n",
    "\n",
    "# Build query URL\n",
    "query_url = url + \"appid=\" + api_key + \"&q=\" + city"
   ]
  },
  {
   "cell_type": "code",
   "execution_count": 3,
   "metadata": {
    "scrolled": true
   },
   "outputs": [
    {
     "name": "stdout",
     "output_type": "stream",
     "text": [
      "{'coord': {'lon': -96.78, 'lat': 32.77}, 'weather': [{'id': 800, 'main': 'Clear', 'description': 'clear sky', 'icon': '01d'}], 'base': 'stations', 'main': {'temp': 299.69, 'feels_like': 298.29, 'temp_min': 298.71, 'temp_max': 300.37, 'pressure': 1018, 'humidity': 51}, 'visibility': 10000, 'wind': {'speed': 4.6, 'deg': 60}, 'clouds': {'all': 1}, 'dt': 1600646300, 'sys': {'type': 1, 'id': 5625, 'country': 'US', 'sunrise': 1600604061, 'sunset': 1600647986}, 'timezone': -18000, 'id': 4684904, 'name': 'Dallas', 'cod': 200}\n",
      "The weather API responded with: {'coord': {'lon': -96.78, 'lat': 32.77}, 'weather': [{'id': 800, 'main': 'Clear', 'description': 'clear sky', 'icon': '01d'}], 'base': 'stations', 'main': {'temp': 299.69, 'feels_like': 298.29, 'temp_min': 298.71, 'temp_max': 300.37, 'pressure': 1018, 'humidity': 51}, 'visibility': 10000, 'wind': {'speed': 4.6, 'deg': 60}, 'clouds': {'all': 1}, 'dt': 1600646300, 'sys': {'type': 1, 'id': 5625, 'country': 'US', 'sunrise': 1600604061, 'sunset': 1600647986}, 'timezone': -18000, 'id': 4684904, 'name': 'Dallas', 'cod': 200}.\n"
     ]
    }
   ],
   "source": [
    "# EXAMPLE CITY\n",
    "\n",
    "# Get weather data example\n",
    "weather_response = requests.get(query_url)\n",
    "weather_json = weather_response.json()\n",
    "print(weather_json)\n",
    "\n",
    "# Get the temperature from the response\n",
    "print(f\"The weather API responded with: {weather_json}.\")"
   ]
  },
  {
   "cell_type": "code",
   "execution_count": 4,
   "metadata": {},
   "outputs": [
    {
     "data": {
      "text/plain": [
       "'dallas'"
      ]
     },
     "execution_count": 4,
     "metadata": {},
     "output_type": "execute_result"
    }
   ],
   "source": [
    "# EXAMPLE - CITIPY\n",
    "lat = 32.77\n",
    "long = -96.78\n",
    "citipy.nearest_city(lat, long).city_name\n"
   ]
  },
  {
   "cell_type": "code",
   "execution_count": 5,
   "metadata": {},
   "outputs": [
    {
     "data": {
      "text/plain": [
       "0    650\n",
       "dtype: int64"
      ]
     },
     "execution_count": 5,
     "metadata": {},
     "output_type": "execute_result"
    }
   ],
   "source": [
    "# Creating list of cities (Note: Adding 650 to ensure 500 unique are found in the API calls)\n",
    "cities_list = []\n",
    "\n",
    "for i in range(0,2000):\n",
    "    if len(cities_list) < 650:\n",
    "        lat = random.randint(-90,90)\n",
    "        long = random.randint(-180,180)\n",
    "        city = citipy.nearest_city(lat, long).city_name\n",
    "        if city not in cities_list:\n",
    "            cities_list.append(city)\n",
    "        else:\n",
    "            continue\n",
    "    else:\n",
    "        break\n",
    "\n",
    "# Check for 650 unique cities\n",
    "cities_df = pd.DataFrame(cities_list)\n",
    "cities_df.nunique()"
   ]
  },
  {
   "cell_type": "code",
   "execution_count": 6,
   "metadata": {},
   "outputs": [
    {
     "name": "stdout",
     "output_type": "stream",
     "text": [
      "http://api.openweathermap.org/data/2.5/weather?appid=e20c3b6406318b2050644f004b124d1a&units=imperial&q=\n"
     ]
    }
   ],
   "source": [
    "# Creating Query URL base\n",
    "url = \"http://api.openweathermap.org/data/2.5/weather?\"\n",
    "units = \"imperial\"\n",
    "query_url = f\"{url}appid={api_key}&units={units}&q=\"\n",
    "print(query_url)"
   ]
  },
  {
   "cell_type": "code",
   "execution_count": 7,
   "metadata": {},
   "outputs": [
    {
     "name": "stdout",
     "output_type": "stream",
     "text": [
      "1:Qaanaaq - Successfully added.\n",
      "2:Hermanus - Successfully added.\n",
      "3:George Town - Successfully added.\n",
      "4:Dhola - Successfully added.\n",
      "5:Barrow - Successfully added.\n",
      "6:Arman' - Successfully added.\n",
      "7:Ushuaia - Successfully added.\n",
      "8:Saldanha - Successfully added.\n",
      "9:Cidreira - Successfully added.\n",
      "10:Yeppoon - Successfully added.\n",
      "11:Jamestown - Successfully added.\n",
      "12:Namatanai - Successfully added.\n",
      "13:Tuktoyaktuk - Successfully added.\n",
      "14:Busselton - Successfully added.\n",
      "15:Tiksi - Successfully added.\n",
      "taolanaro not found.\n",
      "16:Homer - Successfully added.\n",
      "belushya guba not found.\n",
      "illoqqortoormiut not found.\n",
      "17:Bluff - Successfully added.\n",
      "18:Saint-Philippe - Successfully added.\n",
      "19:Necochea - Successfully added.\n",
      "20:Urubamba - Successfully added.\n",
      "21:Vaini - Successfully added.\n",
      "22:Port Elizabeth - Successfully added.\n",
      "23:Hong Kong - Successfully added.\n",
      "24:Turan - Successfully added.\n",
      "25:Shimoda - Successfully added.\n",
      "sorvag not found.\n",
      "26:Mount Gambier - Successfully added.\n",
      "27:Fougamou - Successfully added.\n",
      "28:Colac - Successfully added.\n",
      "29:Ponta do Sol - Successfully added.\n",
      "30:Hobart - Successfully added.\n",
      "31:Chiang Klang - Successfully added.\n",
      "32:Rikitea - Successfully added.\n",
      "33:Waipawa - Successfully added.\n",
      "34:Arsk - Successfully added.\n",
      "35:Constitución - Successfully added.\n",
      "36:Katsuura - Successfully added.\n",
      "37:Mareeba - Successfully added.\n",
      "38:Bambous Virieux - Successfully added.\n",
      "39:Hilo - Successfully added.\n",
      "40:Puerto Ayora - Successfully added.\n",
      "41:Saint George - Successfully added.\n",
      "42:Tasiilaq - Successfully added.\n",
      "43:Dikson - Successfully added.\n",
      "44:Tiznit Province - Successfully added.\n",
      "45:Samarai - Successfully added.\n",
      "46:Sur - Successfully added.\n",
      "47:Lüderitz - Successfully added.\n",
      "48:La Ronge - Successfully added.\n",
      "49:Vila Velha - Successfully added.\n",
      "50:Kavieng - Successfully added.\n",
      "51:Kon Tum - Successfully added.\n",
      "52:Kaitangata - Successfully added.\n",
      "53:Takoradze - Successfully added.\n",
      "54:Bathsheba - Successfully added.\n",
      "metehara not found.\n",
      "55:Leh - Successfully added.\n",
      "56:Tabou - Successfully added.\n",
      "57:Port Alfred - Successfully added.\n",
      "58:Fort Nelson - Successfully added.\n",
      "59:Kapaa - Successfully added.\n",
      "60:São Filipe - Successfully added.\n",
      "61:Cape Town - Successfully added.\n",
      "62:Mar del Plata - Successfully added.\n",
      "63:Talnakh - Successfully added.\n",
      "64:Fairbanks - Successfully added.\n",
      "65:Lebu - Successfully added.\n",
      "66:Punta Arenas - Successfully added.\n",
      "galgani not found.\n",
      "67:Walvis Bay - Successfully added.\n",
      "68:Marawi - Successfully added.\n",
      "69:Alice Springs - Successfully added.\n",
      "70:Francistown - Successfully added.\n",
      "71:Manta - Successfully added.\n",
      "72:Minot - Successfully added.\n",
      "73:Yellowknife - Successfully added.\n",
      "74:Maricá - Successfully added.\n",
      "75:Saint Anthony - Successfully added.\n",
      "76:Tyukhtet - Successfully added.\n",
      "77:Torbay - Successfully added.\n",
      "78:Klaksvík - Successfully added.\n",
      "79:Fortuna - Successfully added.\n",
      "80:Starachowice - Successfully added.\n",
      "81:Bayburt - Successfully added.\n",
      "82:Sitka - Successfully added.\n",
      "83:Bredasdorp - Successfully added.\n",
      "84:Berlevåg - Successfully added.\n",
      "85:Hailey - Successfully added.\n",
      "86:Sisimiut - Successfully added.\n",
      "87:Altamont - Successfully added.\n",
      "88:Port-Gentil - Successfully added.\n",
      "89:Touros - Successfully added.\n",
      "90:Yilan - Successfully added.\n",
      "91:Auki - Successfully added.\n",
      "92:Bethel - Successfully added.\n",
      "93:Pedernales - Successfully added.\n",
      "94:Nabire - Successfully added.\n",
      "95:Clyde River - Successfully added.\n",
      "96:Narsaq - Successfully added.\n",
      "97:New Norfolk - Successfully added.\n",
      "98:Sioux Lookout - Successfully added.\n",
      "99:Hokitika - Successfully added.\n",
      "100:Lompoc - Successfully added.\n",
      "101:Arraial do Cabo - Successfully added.\n",
      "102:Iquique - Successfully added.\n",
      "amderma not found.\n",
      "103:Verkhnyaya Inta - Successfully added.\n",
      "104:Simao - Successfully added.\n",
      "105:Bacolod City - Successfully added.\n",
      "106:Portland - Successfully added.\n",
      "107:Kahului - Successfully added.\n",
      "108:Çorum Province - Successfully added.\n",
      "109:Kosjerić - Successfully added.\n",
      "110:Khatanga - Successfully added.\n",
      "111:Morros - Successfully added.\n",
      "112:Atasū - Successfully added.\n",
      "113:Atuona - Successfully added.\n",
      "114:Cherskiy - Successfully added.\n",
      "115:Margate - Successfully added.\n",
      "116:Alekseyevsk - Successfully added.\n",
      "117:East London - Successfully added.\n",
      "118:Shache - Successfully added.\n",
      "119:Albany - Successfully added.\n",
      "120:Bouca - Successfully added.\n",
      "121:Bondo - Successfully added.\n",
      "122:Barcelona - Successfully added.\n",
      "khormuj not found.\n",
      "123:Kuusamo - Successfully added.\n",
      "124:Ubari - Successfully added.\n",
      "rungata not found.\n",
      "125:La Cruz - Successfully added.\n",
      "126:Souillac - Successfully added.\n",
      "127:Marabba - Successfully added.\n",
      "128:Mount Isa - Successfully added.\n",
      "129:San Cristobal - Successfully added.\n",
      "130:Ferme-Neuve - Successfully added.\n",
      "131:Mataura - Successfully added.\n",
      "132:Betanzos - Successfully added.\n",
      "133:Saint Paul Harbor - Successfully added.\n",
      "134:Kamaishi - Successfully added.\n",
      "135:Yulara - Successfully added.\n",
      "136:Nyurba - Successfully added.\n",
      "137:Upernavik - Successfully added.\n",
      "138:Caravelas - Successfully added.\n",
      "kazalinsk not found.\n",
      "139:Hithadhoo - Successfully added.\n",
      "140:Hambantota - Successfully added.\n",
      "141:Plettenberg Bay - Successfully added.\n",
      "142:Agirish - Successfully added.\n",
      "143:Nikolskoye - Successfully added.\n",
      "144:Medford - Successfully added.\n",
      "145:Ribeira Grande - Successfully added.\n",
      "146:Srednekolymsk - Successfully added.\n",
      "147:Arlit - Successfully added.\n",
      "148:Tall Kayf - Successfully added.\n",
      "149:Gijang - Successfully added.\n",
      "150:College - Successfully added.\n",
      "151:Longyearbyen - Successfully added.\n",
      "152:Te Anau - Successfully added.\n",
      "153:Biggar - Successfully added.\n",
      "154:Biak - Successfully added.\n",
      "155:Nakskov - Successfully added.\n",
      "156:Fare - Successfully added.\n",
      "157:Água Branca - Successfully added.\n",
      "158:Garden City - Successfully added.\n",
      "159:Vardø - Successfully added.\n",
      "160:Karratha - Successfully added.\n",
      "161:Butaritari - Successfully added.\n",
      "162:Wencheng - Successfully added.\n",
      "163:Thompson - Successfully added.\n",
      "164:Iqaluit - Successfully added.\n",
      "165:Isla Mujeres - Successfully added.\n",
      "166:Lorengau - Successfully added.\n",
      "gangotri not found.\n",
      "167:Buloh Kasap - Successfully added.\n",
      "168:Novosil' - Successfully added.\n",
      "169:Władysławowo - Successfully added.\n",
      "170:Ucluelet - Successfully added.\n",
      "171:Egvekinot - Successfully added.\n",
      "172:Kavaratti - Successfully added.\n",
      "173:Yaan - Successfully added.\n",
      "174:East Stroudsburg - Successfully added.\n",
      "175:Mogwase - Successfully added.\n",
      "176:Haines Junction - Successfully added.\n",
      "177:Flinders - Successfully added.\n",
      "178:Río Gallegos - Successfully added.\n",
      "179:Ilulissat - Successfully added.\n",
      "180:Coquimbo - Successfully added.\n",
      "181:Carnarvon - Successfully added.\n",
      "182:Santiago de Cao - Successfully added.\n",
      "183:Mahébourg - Successfully added.\n",
      "palabuhanratu not found.\n",
      "184:Vostok - Successfully added.\n",
      "mys shmidta not found.\n",
      "185:Kiryat Gat - Successfully added.\n",
      "186:Ust-Maya - Successfully added.\n",
      "187:Chapais - Successfully added.\n",
      "188:São João da Barra - Successfully added.\n",
      "189:Tuatapere - Successfully added.\n",
      "190:Sambava - Successfully added.\n",
      "191:Mayo - Successfully added.\n",
      "192:Charlottetown - Successfully added.\n",
      "lolua not found.\n",
      "193:Pimentel - Successfully added.\n",
      "194:Amursk - Successfully added.\n",
      "195:Berdigestyakh - Successfully added.\n",
      "196:Road Town - Successfully added.\n",
      "197:Wau - Successfully added.\n",
      "198:Hollins - Successfully added.\n",
      "199:Pevek - Successfully added.\n",
      "200:Taltal - Successfully added.\n",
      "201:Diofior - Successfully added.\n",
      "202:Province of Mantua - Successfully added.\n",
      "203:Tefé - Successfully added.\n",
      "204:Salalah - Successfully added.\n",
      "205:Avarua - Successfully added.\n",
      "206:Kushmurun - Successfully added.\n",
      "207:Vao - Successfully added.\n",
      "208:Tāybād - Successfully added.\n",
      "209:Chui - Successfully added.\n",
      "210:Castro - Successfully added.\n",
      "211:Berbera - Successfully added.\n",
      "212:Chokurdakh - Successfully added.\n",
      "213:Araouane - Successfully added.\n",
      "214:Qaqortoq - Successfully added.\n",
      "215:Tazovsky - Successfully added.\n",
      "216:Norman Wells - Successfully added.\n",
      "nizhneyansk not found.\n",
      "217:Olafsvik - Successfully added.\n",
      "barroualie not found.\n",
      "218:Taoudenni - Successfully added.\n",
      "219:Zykovo - Successfully added.\n",
      "220:Ekhabi - Successfully added.\n",
      "221:Geraldton - Successfully added.\n",
      "222:Beringovskiy - Successfully added.\n",
      "223:Glencoe - Successfully added.\n",
      "224:Statesville - Successfully added.\n",
      "sentyabrskiy not found.\n",
      "225:Huanren - Successfully added.\n",
      "226:Amalner - Successfully added.\n"
     ]
    },
    {
     "name": "stdout",
     "output_type": "stream",
     "text": [
      "227:Menomonie - Successfully added.\n",
      "228:Krasnovishersk - Successfully added.\n",
      "229:Chhabra - Successfully added.\n",
      "grand river south east not found.\n",
      "230:Stykkisholmur - Successfully added.\n",
      "231:Alyangula - Successfully added.\n",
      "232:Poso - Successfully added.\n",
      "sataua not found.\n",
      "vaitupu not found.\n",
      "233:Amilly - Successfully added.\n",
      "234:Moree - Successfully added.\n",
      "235:Hasaki - Successfully added.\n",
      "236:Obo - Successfully added.\n",
      "237:Port Hedland - Successfully added.\n",
      "238:Copalillo - Successfully added.\n",
      "239:Half Moon Bay - Successfully added.\n",
      "240:Northam - Successfully added.\n",
      "241:Cayenne - Successfully added.\n",
      "242:Toora-Khem - Successfully added.\n",
      "243:Otofuke - Successfully added.\n",
      "244:Hofn - Successfully added.\n",
      "245:Luganville - Successfully added.\n",
      "246:Yalvaç - Successfully added.\n",
      "tsihombe not found.\n",
      "247:Tautira - Successfully added.\n",
      "248:Yangi Marg`ilon - Successfully added.\n",
      "249:Srīvardhan - Successfully added.\n",
      "250:Okhotsk - Successfully added.\n",
      "251:Djambala - Successfully added.\n",
      "252:Riohacha - Successfully added.\n",
      "tumannyy not found.\n",
      "253:Philadelphia - Successfully added.\n",
      "254:Palauig - Successfully added.\n",
      "255:Buala - Successfully added.\n",
      "256:Bilibino - Successfully added.\n",
      "257:Alihe - Successfully added.\n",
      "258:Saskylakh - Successfully added.\n",
      "259:Hualmay - Successfully added.\n",
      "260:Ust-Kuyga - Successfully added.\n",
      "mrirt not found.\n",
      "261:Puerto Escondido - Successfully added.\n",
      "262:Myre - Successfully added.\n",
      "263:Kristiansand - Successfully added.\n",
      "264:Isangel - Successfully added.\n",
      "265:Maicao - Successfully added.\n",
      "barentsburg not found.\n",
      "266:Datong - Successfully added.\n",
      "267:Yamada - Successfully added.\n",
      "268:Abalak - Successfully added.\n",
      "269:Airai - Successfully added.\n",
      "270:Pacifica - Successfully added.\n",
      "271:Cabo San Lucas - Successfully added.\n",
      "272:Houston - Successfully added.\n",
      "273:Lagoa - Successfully added.\n",
      "274:Leningradskiy - Successfully added.\n",
      "275:Muroto-misakicho - Successfully added.\n",
      "276:Cockenzie - Successfully added.\n",
      "277:Shilka - Successfully added.\n",
      "278:Uryupinsk - Successfully added.\n",
      "279:Saint-Pierre - Successfully added.\n",
      "280:Pisco - Successfully added.\n",
      "281:San Vicente - Successfully added.\n",
      "tidore not found.\n",
      "282:Mwinilunga - Successfully added.\n",
      "skalistyy not found.\n",
      "283:Kysyl-Syr - Successfully added.\n",
      "284:Sarwār - Successfully added.\n",
      "285:Mahon - Successfully added.\n",
      "286:Kumëny - Successfully added.\n",
      "287:Port Hardy - Successfully added.\n",
      "288:Gamboma - Successfully added.\n",
      "attawapiskat not found.\n",
      "289:Khovd - Successfully added.\n",
      "290:Kota Belud - Successfully added.\n",
      "291:Saposoa - Successfully added.\n",
      "292:Tilichiki - Successfully added.\n",
      "293:Machala - Successfully added.\n",
      "tambul not found.\n",
      "294:Tot'ma - Successfully added.\n",
      "295:Ostrovnoy - Successfully added.\n",
      "296:Dunedin - Successfully added.\n",
      "297:Korla - Successfully added.\n",
      "298:Ankang - Successfully added.\n",
      "mullaitivu not found.\n",
      "299:Najrān - Successfully added.\n",
      "300:Mahabalipuram - Successfully added.\n",
      "301:São José da Coroa Grande - Successfully added.\n",
      "302:Turukhansk - Successfully added.\n",
      "303:Bowmore - Successfully added.\n",
      "304:Butiá - Successfully added.\n",
      "305:Yong Peng - Successfully added.\n",
      "306:Tual - Successfully added.\n",
      "307:Porto Santo - Successfully added.\n",
      "kawana waters not found.\n",
      "sumbawa not found.\n",
      "308:Tornio - Successfully added.\n",
      "309:Broome - Successfully added.\n",
      "310:Santa Marinella - Successfully added.\n",
      "311:Whitehorse - Successfully added.\n",
      "toliary not found.\n",
      "312:Nemuro - Successfully added.\n",
      "313:Mitrovice - Successfully added.\n",
      "314:Maragogi - Successfully added.\n",
      "315:Praia - Successfully added.\n",
      "316:Jacareacanga - Successfully added.\n",
      "317:Kulu - Successfully added.\n",
      "318:Urucará - Successfully added.\n",
      "mahaicony not found.\n",
      "319:Fallon - Successfully added.\n",
      "320:Sarkand - Successfully added.\n",
      "321:Meulaboh - Successfully added.\n",
      "322:Matelica - Successfully added.\n",
      "323:Lata - Successfully added.\n",
      "324:Champerico - Successfully added.\n",
      "325:Ancud - Successfully added.\n",
      "326:Beloha - Successfully added.\n",
      "327:Bara - Successfully added.\n",
      "328:Dossor - Successfully added.\n",
      "stoyba not found.\n",
      "329:Warrington - Successfully added.\n",
      "330:Jishou - Successfully added.\n",
      "331:Kristiansund - Successfully added.\n",
      "riyaq not found.\n",
      "332:Kruisfontein - Successfully added.\n",
      "333:Faya - Successfully added.\n",
      "334:Cap-aux-Meules - Successfully added.\n",
      "335:Corinth - Successfully added.\n",
      "336:Henties Bay - Successfully added.\n",
      "337:Lālpur - Successfully added.\n",
      "338:Rawlins - Successfully added.\n",
      "339:Sola - Successfully added.\n",
      "340:Vanavara - Successfully added.\n",
      "341:Kununurra - Successfully added.\n",
      "342:Laas - Successfully added.\n",
      "chagda not found.\n",
      "343:Guerrero Negro - Successfully added.\n",
      "louisbourg not found.\n",
      "344:Nanortalik - Successfully added.\n",
      "345:Laguna - Successfully added.\n",
      "346:San Luis - Successfully added.\n",
      "347:Shaunavon - Successfully added.\n",
      "348:Nānākuli - Successfully added.\n",
      "349:Bonavista - Successfully added.\n",
      "350:Eten - Successfully added.\n",
      "351:Mayumba - Successfully added.\n",
      "352:Codrington - Successfully added.\n",
      "353:Ullapool - Successfully added.\n",
      "354:Zavyalovo - Successfully added.\n",
      "355:Richards Bay - Successfully added.\n",
      "356:Westport - Successfully added.\n",
      "357:Buraidah - Successfully added.\n",
      "358:Basco - Successfully added.\n",
      "359:Bratsk - Successfully added.\n",
      "360:Petropavlovka - Successfully added.\n",
      "tabialan not found.\n",
      "361:Yining - Successfully added.\n",
      "362:Den Helder - Successfully added.\n",
      "363:Burnie - Successfully added.\n",
      "364:Camapuã - Successfully added.\n",
      "365:Port Lincoln - Successfully added.\n",
      "366:Qeshm - Successfully added.\n",
      "367:Birjand - Successfully added.\n",
      "368:Nurota - Successfully added.\n",
      "369:Wentzville - Successfully added.\n",
      "370:Igarka - Successfully added.\n",
      "371:Les Cayes - Successfully added.\n",
      "372:Porto Belo - Successfully added.\n",
      "meyungs not found.\n",
      "373:Verkhnyaya Sinyachikha - Successfully added.\n",
      "374:Esperance - Successfully added.\n",
      "375:Río Cuarto - Successfully added.\n",
      "376:Barra do Garças - Successfully added.\n",
      "377:Langenburg - Successfully added.\n",
      "378:Caxambu - Successfully added.\n",
      "379:Kaeo - Successfully added.\n",
      "380:Nelson Bay - Successfully added.\n",
      "381:Aykhal - Successfully added.\n",
      "382:Mossamedes - Successfully added.\n",
      "383:Gewanē - Successfully added.\n",
      "384:Nome - Successfully added.\n",
      "385:Mana - Successfully added.\n",
      "386:Sikasso - Successfully added.\n",
      "keshan not found.\n",
      "387:Dutlwe - Successfully added.\n",
      "388:Tevriz - Successfully added.\n",
      "389:Utevka - Successfully added.\n",
      "390:Coahuayana Viejo - Successfully added.\n",
      "391:Andenes - Successfully added.\n",
      "392:San Patricio - Successfully added.\n",
      "393:Acatlán - Successfully added.\n",
      "394:Rocha - Successfully added.\n",
      "395:Belaya Gora - Successfully added.\n",
      "rostaq not found.\n",
      "dolbeau not found.\n",
      "396:Kuytun - Successfully added.\n",
      "pullampadi not found.\n",
      "397:Sal Rei - Successfully added.\n",
      "398:Caucayá - Successfully added.\n",
      "399:Aklavik - Successfully added.\n",
      "400:Dingle - Successfully added.\n",
      "401:Husavik - Successfully added.\n",
      "402:Soe - Successfully added.\n",
      "403:Vitória da Conquista - Successfully added.\n",
      "404:Makokou - Successfully added.\n",
      "405:Paamiut - Successfully added.\n",
      "406:Kormilovka - Successfully added.\n",
      "407:Dubbo - Successfully added.\n",
      "408:Agadez - Successfully added.\n",
      "409:Severo-Kuril'sk - Successfully added.\n",
      "410:Socorro - Successfully added.\n",
      "tabiauea not found.\n",
      "411:Hailar - Successfully added.\n",
      "412:Altay - Successfully added.\n",
      "413:Simpang - Successfully added.\n",
      "414:Ponta Delgada - Successfully added.\n",
      "415:Malye Derbety - Successfully added.\n",
      "416:Coyhaique - Successfully added.\n",
      "karkaralinsk not found.\n",
      "417:Sulangan - Successfully added.\n",
      "418:Kānkon - Successfully added.\n",
      "419:Bintulu - Successfully added.\n",
      "420:Bengkulu - Successfully added.\n",
      "421:Tourlaville - Successfully added.\n",
      "422:Makkah al Mukarramah - Successfully added.\n",
      "423:Vygonichi - Successfully added.\n",
      "424:Solnechnyy - Successfully added.\n",
      "425:Ugoofaaru - Successfully added.\n",
      "426:Umluj - Successfully added.\n",
      "427:Kumul - Successfully added.\n",
      "428:Autun - Successfully added.\n",
      "429:Arawa - Successfully added.\n",
      "430:Dvinskoy - Successfully added.\n",
      "431:Sovetskiy - Successfully added.\n",
      "432:Tura - Successfully added.\n",
      "433:‘Āhuimanu - Successfully added.\n",
      "434:Imbituba - Successfully added.\n",
      "435:San Andrés - Successfully added.\n",
      "436:Maputo - Successfully added.\n",
      "437:Brewster - Successfully added.\n",
      "438:Dakar - Successfully added.\n",
      "439:San Quintín - Successfully added.\n",
      "440:Harar - Successfully added.\n",
      "441:Vilhena - Successfully added.\n",
      "442:Buin - Successfully added.\n",
      "443:Makakilo City - Successfully added.\n"
     ]
    },
    {
     "name": "stdout",
     "output_type": "stream",
     "text": [
      "444:Lufilufi - Successfully added.\n",
      "445:Tatarsk - Successfully added.\n",
      "446:Rawson - Successfully added.\n",
      "447:Kutum - Successfully added.\n",
      "448:Moramanga - Successfully added.\n",
      "449:Kayamkulam - Successfully added.\n",
      "450:Teeli - Successfully added.\n",
      "451:Qinzhou - Successfully added.\n",
      "452:Conakry - Successfully added.\n",
      "453:Il’inskiy - Successfully added.\n",
      "454:Burlington - Successfully added.\n",
      "455:Xichang - Successfully added.\n",
      "456:Bonfim - Successfully added.\n",
      "457:Nautla - Successfully added.\n",
      "458:Ayan - Successfully added.\n",
      "459:Vaasa - Successfully added.\n",
      "460:Muzhi - Successfully added.\n",
      "461:Cam Ranh - Successfully added.\n",
      "462:Kenai - Successfully added.\n",
      "463:Tolmachëvo - Successfully added.\n",
      "464:Tena - Successfully added.\n",
      "465:Chunian - Successfully added.\n",
      "466:Kajaani - Successfully added.\n",
      "467:Bairiki Village - Successfully added.\n",
      "468:Deputatsky - Successfully added.\n",
      "469:Saint Joseph - Successfully added.\n",
      "kegayli not found.\n",
      "470:Jaciara - Successfully added.\n",
      "471:Oriximiná - Successfully added.\n",
      "472:Sarangani - Successfully added.\n",
      "473:Kasama - Successfully added.\n",
      "474:Ankazobe - Successfully added.\n",
      "475:Jalu - Successfully added.\n",
      "476:Poum - Successfully added.\n",
      "477:Samarina - Successfully added.\n",
      "478:San Jerónimo - Successfully added.\n",
      "479:Huarmey - Successfully added.\n",
      "480:Aksaray - Successfully added.\n",
      "481:Ilhabela - Successfully added.\n",
      "482:Vestmannaeyjar - Successfully added.\n",
      "483:Erdaojiang - Successfully added.\n",
      "484:Liverpool - Successfully added.\n",
      "saleaula not found.\n",
      "485:Manche - Successfully added.\n",
      "486:Raja - Successfully added.\n",
      "487:Saint-Louis - Successfully added.\n",
      "488:Cockburn Town - Successfully added.\n",
      "489:Yārāda - Successfully added.\n",
      "490:Boksitogorsk - Successfully added.\n",
      "491:Rantepao - Successfully added.\n",
      "492:Thibodaux - Successfully added.\n",
      "493:Fort Atkinson - Successfully added.\n",
      "494:Semey - Successfully added.\n",
      "495:Waterlooville - Successfully added.\n",
      "496:Charters Towers - Successfully added.\n",
      "skagastrond not found.\n",
      "497:Port Blair - Successfully added.\n",
      "498:Ca Mau - Successfully added.\n",
      "499:Port-Cartier - Successfully added.\n",
      "500:Singaparna - Successfully added.\n"
     ]
    },
    {
     "data": {
      "text/html": [
       "<div>\n",
       "<style scoped>\n",
       "    .dataframe tbody tr th:only-of-type {\n",
       "        vertical-align: middle;\n",
       "    }\n",
       "\n",
       "    .dataframe tbody tr th {\n",
       "        vertical-align: top;\n",
       "    }\n",
       "\n",
       "    .dataframe thead th {\n",
       "        text-align: right;\n",
       "    }\n",
       "</style>\n",
       "<table border=\"1\" class=\"dataframe\">\n",
       "  <thead>\n",
       "    <tr style=\"text-align: right;\">\n",
       "      <th></th>\n",
       "      <th>Name</th>\n",
       "      <th>Latitude (°)</th>\n",
       "      <th>Temperature (F)</th>\n",
       "      <th>Humidity (%)</th>\n",
       "      <th>Wind Speed (mph)</th>\n",
       "      <th>Cloudiness (%)</th>\n",
       "    </tr>\n",
       "  </thead>\n",
       "  <tbody>\n",
       "    <tr>\n",
       "      <th>0</th>\n",
       "      <td>Qaanaaq</td>\n",
       "      <td>77.48</td>\n",
       "      <td>18.82</td>\n",
       "      <td>93</td>\n",
       "      <td>1.97</td>\n",
       "      <td>96</td>\n",
       "    </tr>\n",
       "    <tr>\n",
       "      <th>1</th>\n",
       "      <td>Hermanus</td>\n",
       "      <td>-34.42</td>\n",
       "      <td>48.99</td>\n",
       "      <td>87</td>\n",
       "      <td>9.17</td>\n",
       "      <td>95</td>\n",
       "    </tr>\n",
       "    <tr>\n",
       "      <th>2</th>\n",
       "      <td>George Town</td>\n",
       "      <td>5.41</td>\n",
       "      <td>78.49</td>\n",
       "      <td>94</td>\n",
       "      <td>3.36</td>\n",
       "      <td>20</td>\n",
       "    </tr>\n",
       "    <tr>\n",
       "      <th>3</th>\n",
       "      <td>Dhola</td>\n",
       "      <td>21.88</td>\n",
       "      <td>80.15</td>\n",
       "      <td>86</td>\n",
       "      <td>4.85</td>\n",
       "      <td>100</td>\n",
       "    </tr>\n",
       "    <tr>\n",
       "      <th>4</th>\n",
       "      <td>Barrow</td>\n",
       "      <td>71.29</td>\n",
       "      <td>33.80</td>\n",
       "      <td>69</td>\n",
       "      <td>9.17</td>\n",
       "      <td>90</td>\n",
       "    </tr>\n",
       "    <tr>\n",
       "      <th>...</th>\n",
       "      <td>...</td>\n",
       "      <td>...</td>\n",
       "      <td>...</td>\n",
       "      <td>...</td>\n",
       "      <td>...</td>\n",
       "      <td>...</td>\n",
       "    </tr>\n",
       "    <tr>\n",
       "      <th>495</th>\n",
       "      <td>Charters Towers</td>\n",
       "      <td>-20.10</td>\n",
       "      <td>80.28</td>\n",
       "      <td>47</td>\n",
       "      <td>11.16</td>\n",
       "      <td>5</td>\n",
       "    </tr>\n",
       "    <tr>\n",
       "      <th>496</th>\n",
       "      <td>Port Blair</td>\n",
       "      <td>11.67</td>\n",
       "      <td>82.17</td>\n",
       "      <td>80</td>\n",
       "      <td>17.20</td>\n",
       "      <td>100</td>\n",
       "    </tr>\n",
       "    <tr>\n",
       "      <th>497</th>\n",
       "      <td>Ca Mau</td>\n",
       "      <td>9.18</td>\n",
       "      <td>79.45</td>\n",
       "      <td>85</td>\n",
       "      <td>1.92</td>\n",
       "      <td>52</td>\n",
       "    </tr>\n",
       "    <tr>\n",
       "      <th>498</th>\n",
       "      <td>Port-Cartier</td>\n",
       "      <td>50.03</td>\n",
       "      <td>37.40</td>\n",
       "      <td>86</td>\n",
       "      <td>7.67</td>\n",
       "      <td>20</td>\n",
       "    </tr>\n",
       "    <tr>\n",
       "      <th>499</th>\n",
       "      <td>Singaparna</td>\n",
       "      <td>-7.35</td>\n",
       "      <td>73.31</td>\n",
       "      <td>85</td>\n",
       "      <td>2.37</td>\n",
       "      <td>89</td>\n",
       "    </tr>\n",
       "  </tbody>\n",
       "</table>\n",
       "<p>500 rows × 6 columns</p>\n",
       "</div>"
      ],
      "text/plain": [
       "                Name  Latitude (°)  Temperature (F)  Humidity (%)  \\\n",
       "0            Qaanaaq         77.48            18.82            93   \n",
       "1           Hermanus        -34.42            48.99            87   \n",
       "2        George Town          5.41            78.49            94   \n",
       "3              Dhola         21.88            80.15            86   \n",
       "4             Barrow         71.29            33.80            69   \n",
       "..               ...           ...              ...           ...   \n",
       "495  Charters Towers        -20.10            80.28            47   \n",
       "496       Port Blair         11.67            82.17            80   \n",
       "497           Ca Mau          9.18            79.45            85   \n",
       "498     Port-Cartier         50.03            37.40            86   \n",
       "499       Singaparna         -7.35            73.31            85   \n",
       "\n",
       "     Wind Speed (mph)  Cloudiness (%)  \n",
       "0                1.97              96  \n",
       "1                9.17              95  \n",
       "2                3.36              20  \n",
       "3                4.85             100  \n",
       "4                9.17              90  \n",
       "..                ...             ...  \n",
       "495             11.16               5  \n",
       "496             17.20             100  \n",
       "497              1.92              52  \n",
       "498              7.67              20  \n",
       "499              2.37              89  \n",
       "\n",
       "[500 rows x 6 columns]"
      ]
     },
     "execution_count": 7,
     "metadata": {},
     "output_type": "execute_result"
    }
   ],
   "source": [
    "# set up lists to hold reponse info\n",
    "lat = []\n",
    "temp = []\n",
    "name = []\n",
    "humidity = []\n",
    "wind = []\n",
    "cloudiness = []\n",
    "counter = 1\n",
    "\n",
    "# Loop through the list of cities and perform a request for data on each\n",
    "for city in cities_list:\n",
    "    if len(name) < 500:\n",
    "        try:\n",
    "            response = requests.get(query_url + city).json()\n",
    "            temp.append(response['main']['temp'])\n",
    "            lat.append(response['coord']['lat'])\n",
    "            name.append(response['name'])\n",
    "            humidity.append(response['main']['humidity'])\n",
    "            wind.append(response['wind']['speed'])\n",
    "            cloudiness.append(response['clouds']['all'])\n",
    "            city_name = response['name']\n",
    "            print(f\"{counter}:\" + city_name + \" - Successfully added.\")\n",
    "            counter += 1\n",
    "        except:\n",
    "            print(city + \" not found.\")\n",
    "    else:\n",
    "        break\n",
    "        \n",
    "        \n",
    "dict = {'Name': name, \n",
    "        'Latitude (°)': lat, \n",
    "        'Temperature (F)': temp, \n",
    "        'Humidity (%)': humidity, \n",
    "        'Wind Speed (mph)': wind, \n",
    "        'Cloudiness (%)': cloudiness\n",
    "       }    \n",
    "city_weather = pd.DataFrame(dict)\n",
    "city_weather\n"
   ]
  },
  {
   "cell_type": "code",
   "execution_count": 8,
   "metadata": {
    "scrolled": false
   },
   "outputs": [
    {
     "data": {
      "text/html": [
       "<div>\n",
       "<style scoped>\n",
       "    .dataframe tbody tr th:only-of-type {\n",
       "        vertical-align: middle;\n",
       "    }\n",
       "\n",
       "    .dataframe tbody tr th {\n",
       "        vertical-align: top;\n",
       "    }\n",
       "\n",
       "    .dataframe thead th {\n",
       "        text-align: right;\n",
       "    }\n",
       "</style>\n",
       "<table border=\"1\" class=\"dataframe\">\n",
       "  <thead>\n",
       "    <tr style=\"text-align: right;\">\n",
       "      <th></th>\n",
       "      <th>Name</th>\n",
       "      <th>Latitude (°)</th>\n",
       "      <th>Temperature (F)</th>\n",
       "      <th>Humidity (%)</th>\n",
       "      <th>Wind Speed (mph)</th>\n",
       "      <th>Cloudiness (%)</th>\n",
       "    </tr>\n",
       "  </thead>\n",
       "  <tbody>\n",
       "    <tr>\n",
       "      <th>6</th>\n",
       "      <td>Ushuaia</td>\n",
       "      <td>-54.80</td>\n",
       "      <td>44.60</td>\n",
       "      <td>80</td>\n",
       "      <td>11.41</td>\n",
       "      <td>40</td>\n",
       "    </tr>\n",
       "    <tr>\n",
       "      <th>65</th>\n",
       "      <td>Punta Arenas</td>\n",
       "      <td>-53.15</td>\n",
       "      <td>43.27</td>\n",
       "      <td>75</td>\n",
       "      <td>14.99</td>\n",
       "      <td>95</td>\n",
       "    </tr>\n",
       "    <tr>\n",
       "      <th>177</th>\n",
       "      <td>Río Gallegos</td>\n",
       "      <td>-51.62</td>\n",
       "      <td>51.80</td>\n",
       "      <td>57</td>\n",
       "      <td>10.29</td>\n",
       "      <td>75</td>\n",
       "    </tr>\n",
       "    <tr>\n",
       "      <th>16</th>\n",
       "      <td>Bluff</td>\n",
       "      <td>-46.60</td>\n",
       "      <td>62.01</td>\n",
       "      <td>52</td>\n",
       "      <td>5.99</td>\n",
       "      <td>3</td>\n",
       "    </tr>\n",
       "    <tr>\n",
       "      <th>51</th>\n",
       "      <td>Kaitangata</td>\n",
       "      <td>-46.28</td>\n",
       "      <td>55.00</td>\n",
       "      <td>73</td>\n",
       "      <td>4.00</td>\n",
       "      <td>3</td>\n",
       "    </tr>\n",
       "    <tr>\n",
       "      <th>...</th>\n",
       "      <td>...</td>\n",
       "      <td>...</td>\n",
       "      <td>...</td>\n",
       "      <td>...</td>\n",
       "      <td>...</td>\n",
       "      <td>...</td>\n",
       "    </tr>\n",
       "    <tr>\n",
       "      <th>109</th>\n",
       "      <td>Khatanga</td>\n",
       "      <td>71.97</td>\n",
       "      <td>40.50</td>\n",
       "      <td>89</td>\n",
       "      <td>8.21</td>\n",
       "      <td>49</td>\n",
       "    </tr>\n",
       "    <tr>\n",
       "      <th>136</th>\n",
       "      <td>Upernavik</td>\n",
       "      <td>72.79</td>\n",
       "      <td>29.88</td>\n",
       "      <td>90</td>\n",
       "      <td>6.76</td>\n",
       "      <td>87</td>\n",
       "    </tr>\n",
       "    <tr>\n",
       "      <th>42</th>\n",
       "      <td>Dikson</td>\n",
       "      <td>73.51</td>\n",
       "      <td>39.83</td>\n",
       "      <td>90</td>\n",
       "      <td>13.60</td>\n",
       "      <td>100</td>\n",
       "    </tr>\n",
       "    <tr>\n",
       "      <th>0</th>\n",
       "      <td>Qaanaaq</td>\n",
       "      <td>77.48</td>\n",
       "      <td>18.82</td>\n",
       "      <td>93</td>\n",
       "      <td>1.97</td>\n",
       "      <td>96</td>\n",
       "    </tr>\n",
       "    <tr>\n",
       "      <th>150</th>\n",
       "      <td>Longyearbyen</td>\n",
       "      <td>78.22</td>\n",
       "      <td>35.60</td>\n",
       "      <td>69</td>\n",
       "      <td>17.22</td>\n",
       "      <td>75</td>\n",
       "    </tr>\n",
       "  </tbody>\n",
       "</table>\n",
       "<p>500 rows × 6 columns</p>\n",
       "</div>"
      ],
      "text/plain": [
       "             Name  Latitude (°)  Temperature (F)  Humidity (%)  \\\n",
       "6         Ushuaia        -54.80            44.60            80   \n",
       "65   Punta Arenas        -53.15            43.27            75   \n",
       "177  Río Gallegos        -51.62            51.80            57   \n",
       "16          Bluff        -46.60            62.01            52   \n",
       "51     Kaitangata        -46.28            55.00            73   \n",
       "..            ...           ...              ...           ...   \n",
       "109      Khatanga         71.97            40.50            89   \n",
       "136     Upernavik         72.79            29.88            90   \n",
       "42         Dikson         73.51            39.83            90   \n",
       "0         Qaanaaq         77.48            18.82            93   \n",
       "150  Longyearbyen         78.22            35.60            69   \n",
       "\n",
       "     Wind Speed (mph)  Cloudiness (%)  \n",
       "6               11.41              40  \n",
       "65              14.99              95  \n",
       "177             10.29              75  \n",
       "16               5.99               3  \n",
       "51               4.00               3  \n",
       "..                ...             ...  \n",
       "109              8.21              49  \n",
       "136              6.76              87  \n",
       "42              13.60             100  \n",
       "0                1.97              96  \n",
       "150             17.22              75  \n",
       "\n",
       "[500 rows x 6 columns]"
      ]
     },
     "execution_count": 8,
     "metadata": {},
     "output_type": "execute_result"
    }
   ],
   "source": [
    "city_weather.sort_values(by='Latitude (°)', ascending=True)"
   ]
  },
  {
   "cell_type": "code",
   "execution_count": 42,
   "metadata": {
    "scrolled": true
   },
   "outputs": [
    {
     "ename": "FileNotFoundError",
     "evalue": "[Errno 2] No such file or directory: 'WeatherPy/Images/temp_lat.png'",
     "output_type": "error",
     "traceback": [
      "\u001b[1;31m---------------------------------------------------------------------------\u001b[0m",
      "\u001b[1;31mFileNotFoundError\u001b[0m                         Traceback (most recent call last)",
      "\u001b[1;32m<ipython-input-42-5dc912ee6330>\u001b[0m in \u001b[0;36m<module>\u001b[1;34m\u001b[0m\n\u001b[0;32m     11\u001b[0m \u001b[0mplt\u001b[0m\u001b[1;33m.\u001b[0m\u001b[0mxlabel\u001b[0m\u001b[1;33m(\u001b[0m\u001b[1;34m\"Latitude (°)\"\u001b[0m\u001b[1;33m)\u001b[0m\u001b[1;33m\u001b[0m\u001b[1;33m\u001b[0m\u001b[0m\n\u001b[0;32m     12\u001b[0m \u001b[0mplt\u001b[0m\u001b[1;33m.\u001b[0m\u001b[0mylabel\u001b[0m\u001b[1;33m(\u001b[0m\u001b[1;34m\"Temperature (Fahrenheit)\"\u001b[0m\u001b[1;33m)\u001b[0m\u001b[1;33m\u001b[0m\u001b[1;33m\u001b[0m\u001b[0m\n\u001b[1;32m---> 13\u001b[1;33m \u001b[0mplt\u001b[0m\u001b[1;33m.\u001b[0m\u001b[0msavefig\u001b[0m\u001b[1;33m(\u001b[0m\u001b[1;34m\"WeatherPy/Images/temp_lat.png\"\u001b[0m\u001b[1;33m)\u001b[0m\u001b[1;33m\u001b[0m\u001b[1;33m\u001b[0m\u001b[0m\n\u001b[0m\u001b[0;32m     14\u001b[0m \u001b[0mplt\u001b[0m\u001b[1;33m.\u001b[0m\u001b[0mshow\u001b[0m\u001b[1;33m(\u001b[0m\u001b[1;33m)\u001b[0m\u001b[1;33m\u001b[0m\u001b[1;33m\u001b[0m\u001b[0m\n",
      "\u001b[1;32m~\\anaconda3\\lib\\site-packages\\matplotlib\\pyplot.py\u001b[0m in \u001b[0;36msavefig\u001b[1;34m(*args, **kwargs)\u001b[0m\n\u001b[0;32m    841\u001b[0m \u001b[1;32mdef\u001b[0m \u001b[0msavefig\u001b[0m\u001b[1;33m(\u001b[0m\u001b[1;33m*\u001b[0m\u001b[0margs\u001b[0m\u001b[1;33m,\u001b[0m \u001b[1;33m**\u001b[0m\u001b[0mkwargs\u001b[0m\u001b[1;33m)\u001b[0m\u001b[1;33m:\u001b[0m\u001b[1;33m\u001b[0m\u001b[1;33m\u001b[0m\u001b[0m\n\u001b[0;32m    842\u001b[0m     \u001b[0mfig\u001b[0m \u001b[1;33m=\u001b[0m \u001b[0mgcf\u001b[0m\u001b[1;33m(\u001b[0m\u001b[1;33m)\u001b[0m\u001b[1;33m\u001b[0m\u001b[1;33m\u001b[0m\u001b[0m\n\u001b[1;32m--> 843\u001b[1;33m     \u001b[0mres\u001b[0m \u001b[1;33m=\u001b[0m \u001b[0mfig\u001b[0m\u001b[1;33m.\u001b[0m\u001b[0msavefig\u001b[0m\u001b[1;33m(\u001b[0m\u001b[1;33m*\u001b[0m\u001b[0margs\u001b[0m\u001b[1;33m,\u001b[0m \u001b[1;33m**\u001b[0m\u001b[0mkwargs\u001b[0m\u001b[1;33m)\u001b[0m\u001b[1;33m\u001b[0m\u001b[1;33m\u001b[0m\u001b[0m\n\u001b[0m\u001b[0;32m    844\u001b[0m     \u001b[0mfig\u001b[0m\u001b[1;33m.\u001b[0m\u001b[0mcanvas\u001b[0m\u001b[1;33m.\u001b[0m\u001b[0mdraw_idle\u001b[0m\u001b[1;33m(\u001b[0m\u001b[1;33m)\u001b[0m   \u001b[1;31m# need this if 'transparent=True' to reset colors\u001b[0m\u001b[1;33m\u001b[0m\u001b[1;33m\u001b[0m\u001b[0m\n\u001b[0;32m    845\u001b[0m     \u001b[1;32mreturn\u001b[0m \u001b[0mres\u001b[0m\u001b[1;33m\u001b[0m\u001b[1;33m\u001b[0m\u001b[0m\n",
      "\u001b[1;32m~\\anaconda3\\lib\\site-packages\\matplotlib\\figure.py\u001b[0m in \u001b[0;36msavefig\u001b[1;34m(self, fname, transparent, **kwargs)\u001b[0m\n\u001b[0;32m   2309\u001b[0m                 \u001b[0mpatch\u001b[0m\u001b[1;33m.\u001b[0m\u001b[0mset_edgecolor\u001b[0m\u001b[1;33m(\u001b[0m\u001b[1;34m'none'\u001b[0m\u001b[1;33m)\u001b[0m\u001b[1;33m\u001b[0m\u001b[1;33m\u001b[0m\u001b[0m\n\u001b[0;32m   2310\u001b[0m \u001b[1;33m\u001b[0m\u001b[0m\n\u001b[1;32m-> 2311\u001b[1;33m         \u001b[0mself\u001b[0m\u001b[1;33m.\u001b[0m\u001b[0mcanvas\u001b[0m\u001b[1;33m.\u001b[0m\u001b[0mprint_figure\u001b[0m\u001b[1;33m(\u001b[0m\u001b[0mfname\u001b[0m\u001b[1;33m,\u001b[0m \u001b[1;33m**\u001b[0m\u001b[0mkwargs\u001b[0m\u001b[1;33m)\u001b[0m\u001b[1;33m\u001b[0m\u001b[1;33m\u001b[0m\u001b[0m\n\u001b[0m\u001b[0;32m   2312\u001b[0m \u001b[1;33m\u001b[0m\u001b[0m\n\u001b[0;32m   2313\u001b[0m         \u001b[1;32mif\u001b[0m \u001b[0mtransparent\u001b[0m\u001b[1;33m:\u001b[0m\u001b[1;33m\u001b[0m\u001b[1;33m\u001b[0m\u001b[0m\n",
      "\u001b[1;32m~\\anaconda3\\lib\\site-packages\\matplotlib\\backend_bases.py\u001b[0m in \u001b[0;36mprint_figure\u001b[1;34m(self, filename, dpi, facecolor, edgecolor, orientation, format, bbox_inches, pad_inches, bbox_extra_artists, backend, **kwargs)\u001b[0m\n\u001b[0;32m   2208\u001b[0m \u001b[1;33m\u001b[0m\u001b[0m\n\u001b[0;32m   2209\u001b[0m             \u001b[1;32mtry\u001b[0m\u001b[1;33m:\u001b[0m\u001b[1;33m\u001b[0m\u001b[1;33m\u001b[0m\u001b[0m\n\u001b[1;32m-> 2210\u001b[1;33m                 result = print_method(\n\u001b[0m\u001b[0;32m   2211\u001b[0m                     \u001b[0mfilename\u001b[0m\u001b[1;33m,\u001b[0m\u001b[1;33m\u001b[0m\u001b[1;33m\u001b[0m\u001b[0m\n\u001b[0;32m   2212\u001b[0m                     \u001b[0mdpi\u001b[0m\u001b[1;33m=\u001b[0m\u001b[0mdpi\u001b[0m\u001b[1;33m,\u001b[0m\u001b[1;33m\u001b[0m\u001b[1;33m\u001b[0m\u001b[0m\n",
      "\u001b[1;32m~\\anaconda3\\lib\\site-packages\\matplotlib\\backend_bases.py\u001b[0m in \u001b[0;36mwrapper\u001b[1;34m(*args, **kwargs)\u001b[0m\n\u001b[0;32m   1637\u001b[0m             \u001b[0mkwargs\u001b[0m\u001b[1;33m.\u001b[0m\u001b[0mpop\u001b[0m\u001b[1;33m(\u001b[0m\u001b[0marg\u001b[0m\u001b[1;33m)\u001b[0m\u001b[1;33m\u001b[0m\u001b[1;33m\u001b[0m\u001b[0m\n\u001b[0;32m   1638\u001b[0m \u001b[1;33m\u001b[0m\u001b[0m\n\u001b[1;32m-> 1639\u001b[1;33m         \u001b[1;32mreturn\u001b[0m \u001b[0mfunc\u001b[0m\u001b[1;33m(\u001b[0m\u001b[1;33m*\u001b[0m\u001b[0margs\u001b[0m\u001b[1;33m,\u001b[0m \u001b[1;33m**\u001b[0m\u001b[0mkwargs\u001b[0m\u001b[1;33m)\u001b[0m\u001b[1;33m\u001b[0m\u001b[1;33m\u001b[0m\u001b[0m\n\u001b[0m\u001b[0;32m   1640\u001b[0m \u001b[1;33m\u001b[0m\u001b[0m\n\u001b[0;32m   1641\u001b[0m     \u001b[1;32mreturn\u001b[0m \u001b[0mwrapper\u001b[0m\u001b[1;33m\u001b[0m\u001b[1;33m\u001b[0m\u001b[0m\n",
      "\u001b[1;32m~\\anaconda3\\lib\\site-packages\\matplotlib\\backends\\backend_agg.py\u001b[0m in \u001b[0;36mprint_png\u001b[1;34m(self, filename_or_obj, metadata, pil_kwargs, *args)\u001b[0m\n\u001b[0;32m    508\u001b[0m         \"\"\"\n\u001b[0;32m    509\u001b[0m         \u001b[0mFigureCanvasAgg\u001b[0m\u001b[1;33m.\u001b[0m\u001b[0mdraw\u001b[0m\u001b[1;33m(\u001b[0m\u001b[0mself\u001b[0m\u001b[1;33m)\u001b[0m\u001b[1;33m\u001b[0m\u001b[1;33m\u001b[0m\u001b[0m\n\u001b[1;32m--> 510\u001b[1;33m         mpl.image.imsave(\n\u001b[0m\u001b[0;32m    511\u001b[0m             \u001b[0mfilename_or_obj\u001b[0m\u001b[1;33m,\u001b[0m \u001b[0mself\u001b[0m\u001b[1;33m.\u001b[0m\u001b[0mbuffer_rgba\u001b[0m\u001b[1;33m(\u001b[0m\u001b[1;33m)\u001b[0m\u001b[1;33m,\u001b[0m \u001b[0mformat\u001b[0m\u001b[1;33m=\u001b[0m\u001b[1;34m\"png\"\u001b[0m\u001b[1;33m,\u001b[0m \u001b[0morigin\u001b[0m\u001b[1;33m=\u001b[0m\u001b[1;34m\"upper\"\u001b[0m\u001b[1;33m,\u001b[0m\u001b[1;33m\u001b[0m\u001b[1;33m\u001b[0m\u001b[0m\n\u001b[0;32m    512\u001b[0m             dpi=self.figure.dpi, metadata=metadata, pil_kwargs=pil_kwargs)\n",
      "\u001b[1;32m~\\anaconda3\\lib\\site-packages\\matplotlib\\image.py\u001b[0m in \u001b[0;36mimsave\u001b[1;34m(fname, arr, vmin, vmax, cmap, format, origin, dpi, metadata, pil_kwargs)\u001b[0m\n\u001b[0;32m   1599\u001b[0m         \u001b[0mpil_kwargs\u001b[0m\u001b[1;33m.\u001b[0m\u001b[0msetdefault\u001b[0m\u001b[1;33m(\u001b[0m\u001b[1;34m\"format\"\u001b[0m\u001b[1;33m,\u001b[0m \u001b[0mformat\u001b[0m\u001b[1;33m)\u001b[0m\u001b[1;33m\u001b[0m\u001b[1;33m\u001b[0m\u001b[0m\n\u001b[0;32m   1600\u001b[0m         \u001b[0mpil_kwargs\u001b[0m\u001b[1;33m.\u001b[0m\u001b[0msetdefault\u001b[0m\u001b[1;33m(\u001b[0m\u001b[1;34m\"dpi\"\u001b[0m\u001b[1;33m,\u001b[0m \u001b[1;33m(\u001b[0m\u001b[0mdpi\u001b[0m\u001b[1;33m,\u001b[0m \u001b[0mdpi\u001b[0m\u001b[1;33m)\u001b[0m\u001b[1;33m)\u001b[0m\u001b[1;33m\u001b[0m\u001b[1;33m\u001b[0m\u001b[0m\n\u001b[1;32m-> 1601\u001b[1;33m         \u001b[0mimage\u001b[0m\u001b[1;33m.\u001b[0m\u001b[0msave\u001b[0m\u001b[1;33m(\u001b[0m\u001b[0mfname\u001b[0m\u001b[1;33m,\u001b[0m \u001b[1;33m**\u001b[0m\u001b[0mpil_kwargs\u001b[0m\u001b[1;33m)\u001b[0m\u001b[1;33m\u001b[0m\u001b[1;33m\u001b[0m\u001b[0m\n\u001b[0m\u001b[0;32m   1602\u001b[0m \u001b[1;33m\u001b[0m\u001b[0m\n\u001b[0;32m   1603\u001b[0m \u001b[1;33m\u001b[0m\u001b[0m\n",
      "\u001b[1;32m~\\anaconda3\\lib\\site-packages\\PIL\\Image.py\u001b[0m in \u001b[0;36msave\u001b[1;34m(self, fp, format, **params)\u001b[0m\n\u001b[0;32m   2153\u001b[0m                 \u001b[0mfp\u001b[0m \u001b[1;33m=\u001b[0m \u001b[0mbuiltins\u001b[0m\u001b[1;33m.\u001b[0m\u001b[0mopen\u001b[0m\u001b[1;33m(\u001b[0m\u001b[0mfilename\u001b[0m\u001b[1;33m,\u001b[0m \u001b[1;34m\"r+b\"\u001b[0m\u001b[1;33m)\u001b[0m\u001b[1;33m\u001b[0m\u001b[1;33m\u001b[0m\u001b[0m\n\u001b[0;32m   2154\u001b[0m             \u001b[1;32melse\u001b[0m\u001b[1;33m:\u001b[0m\u001b[1;33m\u001b[0m\u001b[1;33m\u001b[0m\u001b[0m\n\u001b[1;32m-> 2155\u001b[1;33m                 \u001b[0mfp\u001b[0m \u001b[1;33m=\u001b[0m \u001b[0mbuiltins\u001b[0m\u001b[1;33m.\u001b[0m\u001b[0mopen\u001b[0m\u001b[1;33m(\u001b[0m\u001b[0mfilename\u001b[0m\u001b[1;33m,\u001b[0m \u001b[1;34m\"w+b\"\u001b[0m\u001b[1;33m)\u001b[0m\u001b[1;33m\u001b[0m\u001b[1;33m\u001b[0m\u001b[0m\n\u001b[0m\u001b[0;32m   2156\u001b[0m \u001b[1;33m\u001b[0m\u001b[0m\n\u001b[0;32m   2157\u001b[0m         \u001b[1;32mtry\u001b[0m\u001b[1;33m:\u001b[0m\u001b[1;33m\u001b[0m\u001b[1;33m\u001b[0m\u001b[0m\n",
      "\u001b[1;31mFileNotFoundError\u001b[0m: [Errno 2] No such file or directory: 'WeatherPy/Images/temp_lat.png'"
     ]
    },
    {
     "data": {
      "image/png": "[encoded data removed]",
      "text/plain": [
       "<Figure size 432x288 with 1 Axes>"
      ]
     },
     "metadata": {
      "needs_background": "light"
     },
     "output_type": "display_data"
    }
   ],
   "source": [
    "# Temperature\n",
    "coldest = city_weather.loc[(city_weather['Temperature (F)'] == (city_weather['Temperature (F)'].min()))]\n",
    "coldest\n",
    "coldest_x = coldest.iloc[0]['Latitude (°)'] + 1\n",
    "coldest_y = coldest.iloc[0]['Temperature (F)']\n",
    "coldest_name = coldest.iloc[0]['Name']\n",
    "\n",
    "plt.annotate(xy=[coldest_x, coldest_y], text=\"Coldest city: \" + coldest_name)\n",
    "plt.scatter(lat, temp, marker=\"o\", facecolors=\"red\", edgecolors=\"black\")\n",
    "plt.title(\"Temperature vs. Latitude (°)\")\n",
    "plt.xlabel(\"Latitude (°)\")\n",
    "plt.ylabel(\"Temperature (Fahrenheit)\")\n",
    "plt.savefig(\"WeatherPy/Images/temp_lat.png\")\n",
    "plt.show()"
   ]
  },
  {
   "cell_type": "markdown",
   "metadata": {},
   "source": [
    "Observations:\n",
    "1. Not surprisingly, the plot shows the warmest cities around 0 degrees latitude (i.e. Earth's equator) and temperatures falling as they move farther north and south.\n",
    "2. Many more cities are found in the northern hemisphere, and there are more cities located closer to the North Pole than cities located near the South Pole. This is also intuitive as there is more land mass closer to the North Pole than South Pole."
   ]
  },
  {
   "cell_type": "code",
   "execution_count": 25,
   "metadata": {
    "scrolled": false
   },
   "outputs": [
    {
     "data": {
      "text/plain": [
       "Text(0, 0.5, 'Humidity (%)')"
      ]
     },
     "execution_count": 25,
     "metadata": {},
     "output_type": "execute_result"
    },
    {
     "data": {
      "image/png": "[encoded data removed]",
      "text/plain": [
       "<Figure size 432x288 with 1 Axes>"
      ]
     },
     "metadata": {
      "needs_background": "light"
     },
     "output_type": "display_data"
    }
   ],
   "source": [
    "# Humidity\n",
    "plt.scatter(lat, humidity, marker=\"o\", facecolors=\"red\", edgecolors=\"black\")\n",
    "plt.title(\"Humidity (%) vs. Latitude (°)\")\n",
    "plt.xlabel(\"Latitude (°)\")\n",
    "plt.ylabel(\"Humidity (%)\")"
   ]
  },
  {
   "cell_type": "markdown",
   "metadata": {},
   "source": [
    "Observations:\n",
    "\n",
    "Low humidity (i.e. less than 50%) cities are mostly clustered around 40-50 degrees north of the equator. Northern hemisphere cities grow much more humid as they approach either the North Pole or Equator. (I would need to study more about how humidity works to confidently say why this is.) :-)"
   ]
  },
  {
   "cell_type": "code",
   "execution_count": 11,
   "metadata": {
    "scrolled": false
   },
   "outputs": [
    {
     "data": {
      "text/plain": [
       "Text(0, 0.5, 'Cloudiness (%)')"
      ]
     },
     "execution_count": 11,
     "metadata": {},
     "output_type": "execute_result"
    },
    {
     "data": {
      "image/png": "[encoded data removed]",
      "text/plain": [
       "<Figure size 432x288 with 1 Axes>"
      ]
     },
     "metadata": {
      "needs_background": "light"
     },
     "output_type": "display_data"
    }
   ],
   "source": [
    "# Cloudiness\n",
    "plt.scatter(lat, cloudiness, marker=\"o\", facecolors=\"red\", edgecolors=\"black\")\n",
    "plt.title(\"Cloudiness (%) vs. Latitude (°)\")\n",
    "plt.xlabel(\"Latitude (°)\")\n",
    "plt.ylabel(\"Cloudiness (%)\")"
   ]
  },
  {
   "cell_type": "markdown",
   "metadata": {},
   "source": [
    "Observations:\n",
    "\n",
    "Cloudiness measurements appear to often fall into buckets (e.g. 0%, 40%, 100%) as opposed to cloudiness being more specifically measured. I was curious about this and Googled to learn that cloudiness is officially measured in integer units called oktas. This would explain some bucketing... though I would need to do more research to determine why not all of the measurements are evenly bucketed. "
   ]
  },
  {
   "cell_type": "code",
   "execution_count": 23,
   "metadata": {
    "scrolled": false
   },
   "outputs": [
    {
     "data": {
      "text/plain": [
       "Text(0, 0.5, 'Wind Speed (mph)')"
      ]
     },
     "execution_count": 23,
     "metadata": {},
     "output_type": "execute_result"
    },
    {
     "data": {
      "image/png": "[encoded data removed]",
      "text/plain": [
       "<Figure size 432x288 with 1 Axes>"
      ]
     },
     "metadata": {
      "needs_background": "light"
     },
     "output_type": "display_data"
    }
   ],
   "source": [
    "# Wind Speed\n",
    "windiest = city_weather.loc[(city_weather['Wind Speed (mph)'] == (city_weather['Wind Speed (mph)'].max()))]\n",
    "windiest\n",
    "windiest_x = windiest.iloc[0]['Latitude (°)'] + 1\n",
    "windiest_y = windiest.iloc[0]['Wind Speed (mph)']\n",
    "windiest_name = windiest.iloc[0]['Name']\n",
    "\n",
    "plt.annotate(xy=[windiest_x, windiest_y], text=\"Windiest city: \" + windiest_name)\n",
    "plt.scatter(lat, wind, marker=\"o\", facecolors=\"red\", edgecolors=\"black\")\n",
    "plt.title(\"Wind Speed (mph) vs. Latitude (°)\")\n",
    "plt.xlabel(\"Latitude (°)\")\n",
    "plt.ylabel(\"Wind Speed (mph)\")"
   ]
  },
  {
   "cell_type": "markdown",
   "metadata": {},
   "source": [
    "Observations:\n",
    "\n",
    "1. Most cities have average wind speeds under 10 mph.\n",
    "2. There does not appear to be much correlation between latitude and wind speed."
   ]
  },
  {
   "cell_type": "code",
   "execution_count": 13,
   "metadata": {},
   "outputs": [],
   "source": [
    "# Creating categories\n",
    "dict = {'City':name,\n",
    "        'Temp':temp,\n",
    "        'Lat':lat,\n",
    "        'Wind':wind,\n",
    "        'Humidity':humidity,\n",
    "        'Cloudiness':cloudiness}\n",
    "\n",
    "cities_df = pd.DataFrame(dict)\n",
    "cities_df\n",
    "north_cities = cities_df.loc[cities_df['Lat'] >= 0]\n",
    "north_cities\n",
    "south_cities = cities_df.loc[cities_df['Lat'] < 0]\n",
    "south_cities\n",
    "\n",
    "north_lat = north_cities['Lat']\n",
    "north_city = north_cities['City']\n",
    "north_temp = north_cities['Temp']\n",
    "north_wind = north_cities['Wind']\n",
    "north_humidity = north_cities['Humidity']\n",
    "north_cloudiness = north_cities['Cloudiness']\n",
    "\n",
    "south_lat = south_cities['Lat']\n",
    "south_name = south_cities['City']\n",
    "south_temp = south_cities['Temp']\n",
    "south_wind = south_cities['Wind']\n",
    "south_humidity = south_cities['Humidity']\n",
    "south_cloudiness = south_cities['Cloudiness']"
   ]
  },
  {
   "cell_type": "code",
   "execution_count": 35,
   "metadata": {},
   "outputs": [
    {
     "data": {
      "text/html": [
       "<div>\n",
       "<style scoped>\n",
       "    .dataframe tbody tr th:only-of-type {\n",
       "        vertical-align: middle;\n",
       "    }\n",
       "\n",
       "    .dataframe tbody tr th {\n",
       "        vertical-align: top;\n",
       "    }\n",
       "\n",
       "    .dataframe thead th {\n",
       "        text-align: right;\n",
       "    }\n",
       "</style>\n",
       "<table border=\"1\" class=\"dataframe\">\n",
       "  <thead>\n",
       "    <tr style=\"text-align: right;\">\n",
       "      <th></th>\n",
       "      <th>Name</th>\n",
       "      <th>Latitude (°)</th>\n",
       "      <th>Temperature (F)</th>\n",
       "      <th>Humidity (%)</th>\n",
       "      <th>Wind Speed (mph)</th>\n",
       "      <th>Cloudiness (%)</th>\n",
       "    </tr>\n",
       "  </thead>\n",
       "  <tbody>\n",
       "    <tr>\n",
       "      <th>217</th>\n",
       "      <td>Taoudenni</td>\n",
       "      <td>22.68</td>\n",
       "      <td>96.04</td>\n",
       "      <td>23</td>\n",
       "      <td>11.95</td>\n",
       "      <td>19</td>\n",
       "    </tr>\n",
       "    <tr>\n",
       "      <th>212</th>\n",
       "      <td>Araouane</td>\n",
       "      <td>18.90</td>\n",
       "      <td>94.89</td>\n",
       "      <td>24</td>\n",
       "      <td>10.69</td>\n",
       "      <td>13</td>\n",
       "    </tr>\n",
       "    <tr>\n",
       "      <th>40</th>\n",
       "      <td>Saint George</td>\n",
       "      <td>37.10</td>\n",
       "      <td>94.46</td>\n",
       "      <td>13</td>\n",
       "      <td>13.87</td>\n",
       "      <td>1</td>\n",
       "    </tr>\n",
       "    <tr>\n",
       "      <th>146</th>\n",
       "      <td>Arlit</td>\n",
       "      <td>18.74</td>\n",
       "      <td>92.14</td>\n",
       "      <td>15</td>\n",
       "      <td>7.96</td>\n",
       "      <td>0</td>\n",
       "    </tr>\n",
       "    <tr>\n",
       "      <th>375</th>\n",
       "      <td>Barra do Garças</td>\n",
       "      <td>-15.89</td>\n",
       "      <td>91.40</td>\n",
       "      <td>33</td>\n",
       "      <td>6.93</td>\n",
       "      <td>75</td>\n",
       "    </tr>\n",
       "  </tbody>\n",
       "</table>\n",
       "</div>"
      ],
      "text/plain": [
       "                Name  Latitude (°)  Temperature (F)  Humidity (%)  \\\n",
       "217        Taoudenni         22.68            96.04            23   \n",
       "212         Araouane         18.90            94.89            24   \n",
       "40      Saint George         37.10            94.46            13   \n",
       "146            Arlit         18.74            92.14            15   \n",
       "375  Barra do Garças        -15.89            91.40            33   \n",
       "\n",
       "     Wind Speed (mph)  Cloudiness (%)  \n",
       "217             11.95              19  \n",
       "212             10.69              13  \n",
       "40              13.87               1  \n",
       "146              7.96               0  \n",
       "375              6.93              75  "
      ]
     },
     "execution_count": 35,
     "metadata": {},
     "output_type": "execute_result"
    }
   ],
   "source": [
    "city_weather.sort_values(by='Temperature (F)', ascending=False).head(5)"
   ]
  },
  {
   "cell_type": "code",
   "execution_count": 36,
   "metadata": {
    "scrolled": true
   },
   "outputs": [
    {
     "data": {
      "image/png": "[encoded data removed]",
      "text/plain": [
       "<Figure size 432x288 with 1 Axes>"
      ]
     },
     "metadata": {
      "needs_background": "light"
     },
     "output_type": "display_data"
    },
    {
     "name": "stdout",
     "output_type": "stream",
     "text": [
      "The linear regression equation is: y = -0.71x + 89.45\n",
      "The r-squared is: 0.7383140145547781\n"
     ]
    }
   ],
   "source": [
    "# Northern Hemisphere - Temp vs. Latitude \n",
    "(slope, intercept, rvalue, pvalue, stderr) = linregress(north_lat, north_temp)\n",
    "regress_values = north_lat * slope + intercept\n",
    "line_eq = \"y = \" + str(round(slope,2)) + \"x + \" + str(round(intercept,2))\n",
    "plt.scatter(north_lat, north_temp, marker=\"o\", facecolors=\"red\", edgecolors=\"black\")\n",
    "plt.plot(north_lat,regress_values,\"r-\")\n",
    "plt.annotate(line_eq,(0,30),fontsize=15,color=\"blue\")\n",
    "plt.title(\"Northern Hemisphere: Temperature (F) vs. Latitude (°)\")\n",
    "plt.xlabel(\"Latitude (°)\")\n",
    "plt.ylabel(\"Temperature (F)\")\n",
    "plt.show()\n",
    "print(f\"The linear regression equation is: {line_eq}\")\n",
    "print(f\"The r-squared is: {rvalue**2}\")"
   ]
  },
  {
   "cell_type": "markdown",
   "metadata": {},
   "source": [
    "Observations:\n",
    "\n",
    "1. Temperature and latitude are very strongly correlated, not surprisingly.\n",
    "2. I would guess altitude largely explains the outliers, but that will take more research to validate."
   ]
  },
  {
   "cell_type": "code",
   "execution_count": 37,
   "metadata": {
    "scrolled": false
   },
   "outputs": [
    {
     "data": {
      "image/png": "[encoded data removed]",
      "text/plain": [
       "<Figure size 432x288 with 1 Axes>"
      ]
     },
     "metadata": {
      "needs_background": "light"
     },
     "output_type": "display_data"
    },
    {
     "name": "stdout",
     "output_type": "stream",
     "text": [
      "The linear regression equation is: y = 0.64x + 80.72\n",
      "The r-squared is: 0.5030695482263624\n"
     ]
    }
   ],
   "source": [
    "# Southern Hemisphere - Temp vs. Latitude \n",
    "(slope, intercept, rvalue, pvalue, stderr) = linregress(south_lat, south_temp)\n",
    "regress_values = south_lat * slope + intercept\n",
    "line_eq = \"y = \" + str(round(slope,2)) + \"x + \" + str(round(intercept,2))\n",
    "plt.scatter(south_lat, south_temp, marker=\"o\", facecolors=\"red\", edgecolors=\"black\")\n",
    "plt.plot(south_lat,regress_values,\"r-\")\n",
    "plt.annotate(line_eq,(-55,70),fontsize=15,color=\"blue\")\n",
    "plt.title(\"Southern Hemisphere: Temperature (F) vs. Latitude (°)\")\n",
    "plt.xlabel(\"Latitude (°)\")\n",
    "plt.ylabel(\"Temperature (F)\")\n",
    "plt.show()\n",
    "print(f\"The linear regression equation is: {line_eq}\")\n",
    "print(f\"The r-squared is: {rvalue**2}\")"
   ]
  },
  {
   "cell_type": "markdown",
   "metadata": {},
   "source": [
    "Observations:\n",
    "\n",
    "Temperature and latitude are still somewhat correlated in the Southern hemisphere but not as much as they are in the Northern hemisphere. This could possibly be due to there being very few cities within 40 degrees of the South Pole."
   ]
  },
  {
   "cell_type": "code",
   "execution_count": 27,
   "metadata": {},
   "outputs": [
    {
     "data": {
      "image/png": "[encoded data removed]",
      "text/plain": [
       "<Figure size 432x288 with 1 Axes>"
      ]
     },
     "metadata": {
      "needs_background": "light"
     },
     "output_type": "display_data"
    },
    {
     "name": "stdout",
     "output_type": "stream",
     "text": [
      "The linear regression equation is: y = 0.05x + 70.02\n",
      "The r-squared is: 0.0024113779761973644\n"
     ]
    }
   ],
   "source": [
    "# Northern Hemisphere - Humidity vs. Latitude \n",
    "(slope, intercept, rvalue, pvalue, stderr) = linregress(north_lat, north_humidity)\n",
    "regress_values = north_lat * slope + intercept\n",
    "line_eq = \"y = \" + str(round(slope,2)) + \"x + \" + str(round(intercept,2))\n",
    "plt.scatter(north_lat, north_humidity, marker=\"o\", facecolors=\"red\", edgecolors=\"black\")\n",
    "plt.plot(north_lat,regress_values,\"r-\")\n",
    "plt.annotate(line_eq,(0,40),fontsize=15,color=\"blue\")\n",
    "plt.title(\"Southern Hemisphere: Humidity (%) vs. Latitude (°)\")\n",
    "plt.xlabel(\"Latitude (°)\")\n",
    "plt.ylabel(\"Humidity (%)\")\n",
    "plt.show()\n",
    "print(f\"The linear regression equation is: {line_eq}\")\n",
    "print(f\"The r-squared is: {rvalue**2}\")"
   ]
  },
  {
   "cell_type": "markdown",
   "metadata": {},
   "source": [
    "Observation:\n",
    "\n",
    "Somewhat surprisingly to me, humidity and latitude have almost no correlation."
   ]
  },
  {
   "cell_type": "code",
   "execution_count": 28,
   "metadata": {
    "scrolled": false
   },
   "outputs": [
    {
     "data": {
      "image/png": "[encoded data removed]",
      "text/plain": [
       "<Figure size 432x288 with 1 Axes>"
      ]
     },
     "metadata": {
      "needs_background": "light"
     },
     "output_type": "display_data"
    },
    {
     "name": "stdout",
     "output_type": "stream",
     "text": [
      "The linear regression equation is: y = 0.18x + 72.85\n",
      "The r-squared is: 0.018286820396282936\n"
     ]
    }
   ],
   "source": [
    "# Southern Hemisphere - Humidity vs. Latitude \n",
    "(slope, intercept, rvalue, pvalue, stderr) = linregress(south_lat, south_humidity)\n",
    "regress_values = south_lat * slope + intercept\n",
    "line_eq = \"y = \" + str(round(slope,2)) + \"x + \" + str(round(intercept,2))\n",
    "plt.scatter(south_lat, south_humidity, marker=\"o\", facecolors=\"red\", edgecolors=\"black\")\n",
    "plt.plot(south_lat,regress_values,\"r-\")\n",
    "plt.annotate(line_eq,(-50,50),fontsize=15,color=\"blue\")\n",
    "plt.title(\"Southern Hemisphere: Humidity (%) vs. Latitude (°)\")\n",
    "plt.xlabel(\"Latitude (°)\")\n",
    "plt.ylabel(\"Humidity (%)\")\n",
    "plt.show()\n",
    "print(f\"The linear regression equation is: {line_eq}\")\n",
    "print(f\"The r-squared is: {rvalue**2}\")"
   ]
  },
  {
   "cell_type": "markdown",
   "metadata": {},
   "source": [
    "Observation:\n",
    "\n",
    "Humidity and latitude have almost no correlation."
   ]
  },
  {
   "cell_type": "code",
   "execution_count": 29,
   "metadata": {
    "scrolled": true
   },
   "outputs": [
    {
     "data": {
      "image/png": "[encoded data removed]",
      "text/plain": [
       "<Figure size 432x288 with 1 Axes>"
      ]
     },
     "metadata": {
      "needs_background": "light"
     },
     "output_type": "display_data"
    },
    {
     "name": "stdout",
     "output_type": "stream",
     "text": [
      "The linear regression equation is: y = 0.04x + 52.72\n",
      "The r-squared is: 0.00035949980171506884\n"
     ]
    }
   ],
   "source": [
    "# Northern Hemisphere - Cloudiness vs. Latitude \n",
    "(slope, intercept, rvalue, pvalue, stderr) = linregress(north_lat, north_cloudiness)\n",
    "regress_values = north_lat * slope + intercept\n",
    "line_eq = \"y = \" + str(round(slope,2)) + \"x + \" + str(round(intercept,2))\n",
    "plt.scatter(north_lat, north_cloudiness, marker=\"o\", facecolors=\"red\", edgecolors=\"black\")\n",
    "plt.plot(north_lat,regress_values,\"r-\")\n",
    "plt.annotate(line_eq,(8,60),fontsize=15,color=\"blue\")\n",
    "plt.title(\"Southern Hemisphere: Cloudiness (%) vs. Latitude (°)\")\n",
    "plt.xlabel(\"Latitude (°)\")\n",
    "plt.ylabel(\"Cloudiness (%)\")\n",
    "plt.show()\n",
    "print(f\"The linear regression equation is: {line_eq}\")\n",
    "print(f\"The r-squared is: {rvalue**2}\")"
   ]
  },
  {
   "cell_type": "markdown",
   "metadata": {},
   "source": [
    "Observation:\n",
    "\n",
    "Cloudiness and latitude have almost no correlation."
   ]
  },
  {
   "cell_type": "code",
   "execution_count": 19,
   "metadata": {
    "scrolled": true
   },
   "outputs": [
    {
     "data": {
      "image/png": "[encoded data removed]",
      "text/plain": [
       "<Figure size 432x288 with 1 Axes>"
      ]
     },
     "metadata": {
      "needs_background": "light"
     },
     "output_type": "display_data"
    },
    {
     "name": "stdout",
     "output_type": "stream",
     "text": [
      "The linear regression equation is: y = 0.16x + 46.72\n",
      "The r-squared is: 0.004084524122930662\n"
     ]
    }
   ],
   "source": [
    "# Southern Hemisphere - Cloudiness vs. Latitude \n",
    "(slope, intercept, rvalue, pvalue, stderr) = linregress(south_lat, south_cloudiness)\n",
    "regress_values = south_lat * slope + intercept\n",
    "line_eq = \"y = \" + str(round(slope,2)) + \"x + \" + str(round(intercept,2))\n",
    "plt.scatter(south_lat, south_cloudiness, marker=\"o\", facecolors=\"red\", edgecolors=\"black\")\n",
    "plt.plot(south_lat,regress_values,\"r-\")\n",
    "plt.annotate(line_eq,(-50,50),fontsize=15,color=\"blue\")\n",
    "plt.title(\"Southern Hemisphere: Cloudiness (%) vs. Latitude (°)\")\n",
    "plt.xlabel(\"Latitude (°)\")\n",
    "plt.ylabel(\"Cloudiness (%)\")\n",
    "plt.show()\n",
    "print(f\"The linear regression equation is: {line_eq}\")\n",
    "print(f\"The r-squared is: {rvalue**2}\")"
   ]
  },
  {
   "cell_type": "markdown",
   "metadata": {},
   "source": [
    "Observation:\n",
    "\n",
    "Cloudiness and latitude have almost no correlation."
   ]
  },
  {
   "cell_type": "code",
   "execution_count": 20,
   "metadata": {
    "scrolled": false
   },
   "outputs": [
    {
     "data": {
      "image/png": "[encoded data removed]",
      "text/plain": [
       "<Figure size 432x288 with 1 Axes>"
      ]
     },
     "metadata": {
      "needs_background": "light"
     },
     "output_type": "display_data"
    },
    {
     "name": "stdout",
     "output_type": "stream",
     "text": [
      "The linear regression equation is: y = 0.02x + 6.31\n",
      "The r-squared is: 0.008307005327955044\n"
     ]
    }
   ],
   "source": [
    "# Northern Hemisphere - Wind Speed vs. Latitude\n",
    "(slope, intercept, rvalue, pvalue, stderr) = linregress(north_lat, north_wind)\n",
    "regress_values = north_lat * slope + intercept\n",
    "line_eq = \"y = \" + str(round(slope,2)) + \"x + \" + str(round(intercept,2))\n",
    "plt.scatter(north_lat, north_wind, marker=\"o\", facecolors=\"red\", edgecolors=\"black\")\n",
    "plt.plot(north_lat,regress_values,\"r-\")\n",
    "plt.annotate(line_eq,(8,25),fontsize=15,color=\"blue\")\n",
    "plt.title(\"Southern Hemisphere: Wind Speed (mph) vs. Latitude (°)\")\n",
    "plt.xlabel(\"Latitude (°)\")\n",
    "plt.ylabel(\"Wind Speed (mph)\")\n",
    "plt.show()\n",
    "print(f\"The linear regression equation is: {line_eq}\")\n",
    "print(f\"The r-squared is: {rvalue**2}\")"
   ]
  },
  {
   "cell_type": "markdown",
   "metadata": {},
   "source": [
    "Observation:\n",
    "\n",
    "Wind speed and latitude have almost no correlation."
   ]
  },
  {
   "cell_type": "code",
   "execution_count": 53,
   "metadata": {
    "scrolled": true
   },
   "outputs": [
    {
     "data": {
      "image/png": "[encoded data removed]",
      "text/plain": [
       "<Figure size 432x288 with 1 Axes>"
      ]
     },
     "metadata": {
      "needs_background": "light"
     },
     "output_type": "display_data"
    },
    {
     "name": "stdout",
     "output_type": "stream",
     "text": [
      "The linear regression equation is: y = -0.03x + 8.47\n",
      "The r-squared is: 0.003946988785010328\n"
     ]
    }
   ],
   "source": [
    "# Southern Hemisphere - Wind Speed vs. Latitude\n",
    "(slope, intercept, rvalue, pvalue, stderr) = linregress(south_lat, south_wind)\n",
    "regress_values = south_lat * slope + intercept\n",
    "line_eq = \"y = \" + str(round(slope,2)) + \"x + \" + str(round(intercept,2))\n",
    "plt.scatter(south_lat, south_wind, marker=\"o\", facecolors=\"red\", edgecolors=\"black\")\n",
    "plt.plot(south_lat,regress_values,\"r-\")\n",
    "plt.annotate(line_eq,(-50,13),fontsize=15,color=\"blue\")\n",
    "plt.title(\"Southern Hemisphere: Wind Speed (mph) vs. Latitude (°)\")\n",
    "plt.xlabel(\"Latitude (°)\")\n",
    "plt.ylabel(\"Wind Speed (mph)\")\n",
    "plt.show()\n",
    "print(f\"The linear regression equation is: {line_eq}\")\n",
    "print(f\"The r-squared is: {rvalue**2}\")"
   ]
  },
  {
   "cell_type": "markdown",
   "metadata": {},
   "source": [
    "Observation:\n",
    "\n",
    "Wind speed and latitude have almost no correlation.\n"
   ]
  },
  {
   "cell_type": "code",
   "execution_count": 39,
   "metadata": {},
   "outputs": [],
   "source": [
    "# Saving retrieved weather data to CSV\n",
    "city_weather.to_csv(\"retrieved_weather_data.csv\",\n",
    "                  encoding=\"utf-8\", index=False, header=True)"
   ]
  },
  {
   "cell_type": "code",
   "execution_count": null,
   "metadata": {},
   "outputs": [],
   "source": [
    "Publishing "
   ]
  }
 ],
 "metadata": {
  "kernelspec": {
   "display_name": "Python 3",
   "language": "python",
   "name": "python3"
  },
  "language_info": {
   "codemirror_mode": {
    "name": "ipython",
    "version": 3
   },
   "file_extension": ".py",
   "mimetype": "text/x-python",
   "name": "python",
   "nbconvert_exporter": "python",
   "pygments_lexer": "ipython3",
   "version": "3.8.3"
  }
 },
 "nbformat": 4,
 "nbformat_minor": 4
}
